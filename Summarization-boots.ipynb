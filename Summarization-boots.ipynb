{
 "cells": [
  {
   "cell_type": "code",
   "execution_count": 1,
   "metadata": {},
   "outputs": [],
   "source": [
    "import torch\n",
    "import torch.nn as nn\n",
    "import torch.optim as optim\n",
    "import torch.nn.functional as F\n",
    "import torchtext\n",
    "from torchtext import data\n",
    "from torchtext import datasets\n",
    "import collections\n",
    "import math\n",
    "import numpy as np"
   ]
  },
  {
   "cell_type": "code",
   "execution_count": 2,
   "metadata": {},
   "outputs": [],
   "source": [
    "import re\n",
    "import spacy\n",
    "import string\n",
    "from nltk.stem.porter import *\n",
    "stemmer = PorterStemmer()\n",
    "import nltk\n",
    "from nltk.corpus import stopwords\n",
    "stopword_lst = set(stopwords.words('english'))\n",
    "\n",
    "nlp = spacy.load('en')\n",
    "MAX_CHARS = 20000\n",
    "def tokenizer(comment):\n",
    "    comment = comment.lower()\n",
    "    comment = re.sub(r\"[\\*\\\"“”\\n\\\\…\\+\\-\\/\\=\\(\\)‘•:\\[\\]\\|’;#]\", \" \", str(comment))\n",
    "    comment = re.sub(r\"[ ]+\", \" \", comment)\n",
    "    comment = re.sub(r\"\\,+\", \",\", comment)\n",
    "    if (len(comment) > MAX_CHARS):\n",
    "        comment = comment[:MAX_CHARS]\n",
    "    return [x.text for x in nlp.tokenizer(comment) if x.text != \" \"]\n",
    "\n",
    "def tfidftokenizer(comment):\n",
    "    comment = comment.lower()\n",
    "    comment = re.sub(r\"[\\*\\\"“”\\n\\\\…\\+\\-\\/\\=\\(\\)‘•:\\[\\]\\|’;#.]\", \" \", str(comment))\n",
    "    comment = re.sub(r\"[ ]+\", \" \", comment)\n",
    "    comment = re.sub(r\"\\,+\", \"\", comment)\n",
    "    if (len(comment) > MAX_CHARS):\n",
    "        comment = comment[:MAX_CHARS]\n",
    "    return [stemmer.stem(x.text) for x in nlp.tokenizer(comment) \\\n",
    "            if x.text != \" \" and x.text not in string.punctuation and x.text not in stopword_lst]\n",
    "\n",
    "def segment_embedding(comment):\n",
    "    comment = comment.lower()\n",
    "    comment = re.sub(r\"[\\*\\\"“”\\n\\\\…\\+\\-\\/\\=\\(\\)‘•:\\[\\]\\|’;#.]\", \" \", str(comment))\n",
    "    comment = re.sub(r\"[ ]+\", \" \", comment)\n",
    "    comment = re.sub(r\"\\,+\", \"\", comment)\n",
    "    if (len(comment) > MAX_CHARS):\n",
    "        comment = comment[:MAX_CHARS]\n",
    "    word_lst = [stemmer.stem(x.text) for x in nlp.tokenizer(comment) \\\n",
    "            if x.text != \" \" and x.text not in string.punctuation and x.text not in stopword_lst]\n",
    "    seg_embedding = np.zeros(200)\n",
    "    for w in word_lst:\n",
    "        if w in embedding.stoi:\n",
    "            seg_embedding += np.array(embedding.vectors[embedding.stoi[w]])\n",
    "    return seg_embedding/len(seg_embedding)"
   ]
  },
  {
   "cell_type": "code",
   "execution_count": 3,
   "metadata": {},
   "outputs": [],
   "source": [
    "import csv\n",
    "segs_lst = []\n",
    "with open('data/csv/train/boots.csv', 'r') as f:\n",
    "    csvReader = csv.reader(f)\n",
    "    next(csvReader)\n",
    "    for line in csvReader:\n",
    "        id_, rating, text, _ = line\n",
    "        segs = text.split(\" EDU_BREAK \")\n",
    "        for s in segs:\n",
    "            segs_lst.append(\" \".join(tfidftokenizer(s)))\n",
    "tmp = []\n",
    "with open('data/gold/aspects/boots-dev.asp', 'r') as f:\n",
    "    aspects = f.readline().rstrip().split('|')\n",
    "    f.readline()\n",
    "    for line in f:\n",
    "        if line != '\\n':\n",
    "            tmp.append(line.rstrip())\n",
    "        else:\n",
    "            id_ = tmp[0]\n",
    "            product_id = id_.split('-')[0]\n",
    "            for text_data in tmp[1:]:\n",
    "                text, aspect = text_data.strip().split('\\t')\n",
    "                segs_lst.append(\" \".join(tfidftokenizer(text)))\n",
    "            tmp = []\n",
    "tmp = []   \n",
    "with open('data/gold/aspects/boots-tst.asp', 'r') as f:\n",
    "    aspects = f.readline().rstrip().split('|')\n",
    "    f.readline()\n",
    "    for line in f:\n",
    "        if line != '\\n':\n",
    "            tmp.append(line.rstrip())\n",
    "        else:\n",
    "            id_ = tmp[0]\n",
    "            product_id = id_.split('-')[0]\n",
    "            for text_data in tmp[1:]:\n",
    "                text, aspect = text_data.strip().split('\\t')\n",
    "                segs_lst.append(\" \".join(tfidftokenizer(text)))\n",
    "            tmp = []\n"
   ]
  },
  {
   "cell_type": "code",
   "execution_count": 4,
   "metadata": {},
   "outputs": [
    {
     "name": "stderr",
     "output_type": "stream",
     "text": [
      "  0%|          | 0/17585 [00:00<?, ?it/s]Skipping token b'17585' with 1-dimensional vector [b'200']; likely a header\n",
      " 94%|█████████▍| 16529/17585 [00:01<00:00, 14138.73it/s]\n"
     ]
    }
   ],
   "source": [
    "embedding = torchtext.vocab.Vectors('boots.200d.txt')\n",
    "if torch.cuda.is_available():\n",
    "    torch.cuda.set_device(2)\n",
    "    device = torch.device('cuda')\n",
    "else:\n",
    "    device = torch.device('cpu')"
   ]
  },
  {
   "cell_type": "code",
   "execution_count": 5,
   "metadata": {},
   "outputs": [],
   "source": [
    "class AspectNet(nn.Module):\n",
    "    def __init__(self, vocab_size, embedding_dim, n_filters, filter_sizes, output_dim, \n",
    "                 dropout, pad_idx):\n",
    "        \n",
    "        super().__init__()\n",
    "        \n",
    "        self.embedding = nn.Embedding(vocab_size, embedding_dim, padding_idx = pad_idx)\n",
    "        \n",
    "        for param in self.embedding.parameters():\n",
    "            param.requires_grad = False\n",
    "        \n",
    "        self.convs = nn.ModuleList([\n",
    "                                    nn.Conv2d(in_channels = 1, \n",
    "                                              out_channels = n_filters, \n",
    "                                              kernel_size = (fs, embedding_dim)) \n",
    "                                    for fs in filter_sizes\n",
    "                                    ])\n",
    "        \n",
    "        self.fc = nn.Linear(len(filter_sizes) * n_filters, output_dim)\n",
    "        \n",
    "        self.dropout = nn.Dropout(dropout)\n",
    "        \n",
    "    def forward(self, text):\n",
    "        \n",
    "        #text = [sent len, batch size]\n",
    "        \n",
    "        text = text.permute(1, 0)\n",
    "                \n",
    "        #text = [batch size, sent len]\n",
    "        \n",
    "        embedded = self.embedding(text)\n",
    "                \n",
    "        #embedded = [batch size, sent len, emb dim]\n",
    "        \n",
    "        embedded = embedded.unsqueeze(1)\n",
    "        \n",
    "        #embedded = [batch size, 1, sent len, emb dim]\n",
    "        \n",
    "        conved = [F.relu(conv(embedded)).squeeze(3) for conv in self.convs]\n",
    "            \n",
    "        #conv_n = [batch size, n_filters, sent len - filter_sizes[n]]\n",
    "        \n",
    "        pooled = [F.max_pool1d(conv, conv.shape[2]).squeeze(2) for conv in conved]\n",
    "        \n",
    "        #pooled_n = [batch size, n_filters]\n",
    "        \n",
    "        cat = self.dropout(torch.cat(pooled, dim = 1))\n",
    "\n",
    "        #cat = [batch size, n_filters * len(filter_sizes)]\n",
    "        \n",
    "        logits = self.fc(cat)\n",
    "        \n",
    "        probs = F.softmax(logits, dim=1)\n",
    "        \n",
    "        classes = torch.max(logits, 1)[1]\n",
    "            \n",
    "        return probs, classes\n"
   ]
  },
  {
   "cell_type": "code",
   "execution_count": 6,
   "metadata": {},
   "outputs": [],
   "source": [
    "class CNN(nn.Module):\n",
    "    def __init__(self, vocab_size, embedding_dim, n_filters, filter_sizes, output_dim, \n",
    "                 dropout, pad_idx):\n",
    "        \n",
    "        super().__init__()\n",
    "        \n",
    "        self.embedding = nn.Embedding(vocab_size, embedding_dim, padding_idx = pad_idx)\n",
    "        \n",
    "        for param in self.embedding.parameters():\n",
    "            param.requires_grad = False\n",
    "        \n",
    "        self.convs = nn.ModuleList([\n",
    "                                    nn.Conv2d(in_channels = 1, \n",
    "                                              out_channels = n_filters, \n",
    "                                              kernel_size = (fs, embedding_dim)) \n",
    "                                    for fs in filter_sizes\n",
    "                                    ])\n",
    "        \n",
    "        #self.fc = nn.Linear(len(filter_sizes) * n_filters, output_dim)\n",
    "        \n",
    "        self.dropout = nn.Dropout(dropout)\n",
    "        \n",
    "        #self.apply(init_weights)\n",
    "        \n",
    "    def forward(self, text):\n",
    "        \n",
    "        #text = [sent len, batch size]\n",
    "        \n",
    "        text = text.permute(1, 0)\n",
    "                \n",
    "        #text = [batch size, sent len]\n",
    "        \n",
    "        embedded = self.embedding(text)\n",
    "                \n",
    "        #embedded = [batch size, sent len, emb dim]\n",
    "        \n",
    "        embedded = embedded.unsqueeze(1)\n",
    "        \n",
    "        #embedded = [batch size, 1, sent len, emb dim]\n",
    "        \n",
    "        conved = [F.relu(conv(embedded)).squeeze(3) for conv in self.convs]\n",
    "            \n",
    "        #conv_n = [batch size, n_filters, sent len - filter_sizes[n]]\n",
    "        \n",
    "        pooled = [F.max_pool1d(conv, conv.shape[2]).squeeze(2) for conv in conved]\n",
    "        \n",
    "        #pooled_n = [batch size, n_filters]\n",
    "        \n",
    "        cat = self.dropout(torch.cat(pooled, dim = 1))\n",
    "\n",
    "        #cat = [batch size, n_filters * len(filter_sizes)]\n",
    "        \n",
    "        #logits = self.fc(cat)\n",
    "        \n",
    "        #probs = F.softmax(logits, dim=1)\n",
    "        \n",
    "        #classes = torch.max(logits, 1)[1]\n",
    "            \n",
    "        #return probs, classes\n",
    "        return cat"
   ]
  },
  {
   "cell_type": "code",
   "execution_count": 7,
   "metadata": {},
   "outputs": [],
   "source": [
    "class CombineNet(nn.Module):\n",
    "    def __init__(self, vocab_size, embedding_dim, n_filters, filter_sizes, output_dim, \n",
    "                 dropout, pad_idx):\n",
    "        super().__init__()\n",
    "        \n",
    "        self.cnn = CNN(vocab_size, embedding_dim, n_filters, filter_sizes, 1, \n",
    "                 dropout, pad_idx)\n",
    "        \n",
    "        self.fc1 = nn.Linear(len(filter_sizes) * n_filters, 1)\n",
    "        \n",
    "        #self.fc2 = nn.Linear(64, 1)\n",
    "        \n",
    "        #self.apply(init_weights)\n",
    "        \n",
    "    def forward(self, text):\n",
    "        \n",
    "        cat = self.cnn(text)\n",
    "        \n",
    "        logits = self.fc1(cat)\n",
    "        \n",
    "        #logits = self.fc2(logits)\n",
    "            \n",
    "        polarity = torch.tanh(logits)\n",
    "        \n",
    "        return polarity"
   ]
  },
  {
   "cell_type": "code",
   "execution_count": 8,
   "metadata": {},
   "outputs": [],
   "source": [
    "import json\n",
    " \n",
    "with open('./model/aspect_label_vocab-boots.json', 'r') as f:\n",
    "    aspect_label_vocab = json.load(f)\n",
    "    \n",
    "with open('./model/aspect_text_vocab-boots.json', 'r') as f:\n",
    "    aspect_text_vocab = json.load(f)\n",
    "    \n",
    "with open('./model/sentiment_label_vocab-boots.json', 'r') as f:\n",
    "    sentiment_label_vocab = json.load(f)\n",
    "    \n",
    "with open('./model/sentiment_text_vocab-boots.json', 'r') as f:\n",
    "    sentiment_text_vocab = json.load(f)"
   ]
  },
  {
   "cell_type": "code",
   "execution_count": 9,
   "metadata": {},
   "outputs": [
    {
     "data": {
      "text/plain": [
       "<All keys matched successfully>"
      ]
     },
     "execution_count": 9,
     "metadata": {},
     "output_type": "execute_result"
    }
   ],
   "source": [
    "INPUT_DIM = len(aspect_text_vocab)\n",
    "EMBEDDING_DIM = 200\n",
    "N_FILTERS = 100\n",
    "FILTER_SIZES = [2,3,4]\n",
    "OUTPUT_DIM = len(aspect_label_vocab)\n",
    "DROPOUT = 0.5\n",
    "\n",
    "aspect_model = AspectNet(INPUT_DIM, EMBEDDING_DIM, N_FILTERS, FILTER_SIZES, OUTPUT_DIM, DROPOUT, 1)\n",
    "aspect_model = aspect_model.to(device)\n",
    "aspect_model.load_state_dict(torch.load('./model/aspect-boots.pt', map_location=torch.device('cpu')))"
   ]
  },
  {
   "cell_type": "code",
   "execution_count": 10,
   "metadata": {},
   "outputs": [
    {
     "data": {
      "text/plain": [
       "34138"
      ]
     },
     "execution_count": 10,
     "metadata": {},
     "output_type": "execute_result"
    }
   ],
   "source": [
    "len(sentiment_text_vocab)"
   ]
  },
  {
   "cell_type": "code",
   "execution_count": 11,
   "metadata": {},
   "outputs": [
    {
     "data": {
      "text/plain": [
       "<All keys matched successfully>"
      ]
     },
     "execution_count": 11,
     "metadata": {},
     "output_type": "execute_result"
    }
   ],
   "source": [
    "INPUT_DIM = len(sentiment_text_vocab)\n",
    "EMBEDDING_DIM = 200\n",
    "N_FILTERS = 50\n",
    "FILTER_SIZES = [2,3,4]\n",
    "KOUTPUT_DIM = 2\n",
    "DROPOUT = 0.5\n",
    "\n",
    "senti_model = CombineNet(INPUT_DIM, EMBEDDING_DIM, N_FILTERS, FILTER_SIZES, KOUTPUT_DIM, DROPOUT, 1)\n",
    "senti_model = senti_model.to(device)\n",
    "senti_model.load_state_dict(torch.load('./model/sentiment-boots.pt', map_location=torch.device('cpu')))"
   ]
  },
  {
   "cell_type": "code",
   "execution_count": 12,
   "metadata": {},
   "outputs": [],
   "source": [
    "def generate_aspect(model, sentence, min_len = 5):\n",
    "    model.eval()\n",
    "    tokenized = [tok for tok in tokenizer(sentence)]\n",
    "    if len(tokenized) < min_len:\n",
    "        tokenized += ['<pad>'] * (min_len - len(tokenized))\n",
    "    indexed = []\n",
    "    for t in tokenized:\n",
    "        if t in aspect_text_vocab:\n",
    "            indexed.append(aspect_text_vocab[t])\n",
    "        else:\n",
    "            indexed.append(0)\n",
    "    tensor = torch.LongTensor(indexed).to(device)\n",
    "    tensor = tensor.unsqueeze(1)\n",
    "    probs, classes = model(tensor)\n",
    "    return probs.squeeze(0).detach().cpu().numpy(), classes.squeeze(0).detach().cpu().numpy()\n",
    "    \n",
    "    \n",
    "    \n",
    "def generate_sentiment(model, sentence, min_len = 5):\n",
    "    model.eval()\n",
    "    tokenized = [tok for tok in tokenizer(sentence)]\n",
    "    if len(tokenized) < min_len:\n",
    "        tokenized += ['<pad>'] * (min_len - len(tokenized))\n",
    "    indexed = []\n",
    "    for t in tokenized:\n",
    "        if t in sentiment_text_vocab:\n",
    "            indexed.append(sentiment_text_vocab[t])\n",
    "        else:\n",
    "            indexed.append(0)\n",
    "    tensor = torch.LongTensor(indexed).to(device)\n",
    "    tensor = tensor.unsqueeze(1)\n",
    "    pols = model(tensor)\n",
    "    return pols.item()\n"
   ]
  },
  {
   "cell_type": "code",
   "execution_count": 13,
   "metadata": {},
   "outputs": [
    {
     "name": "stdout",
     "output_type": "stream",
     "text": [
      "['positive', 'negative']\n"
     ]
    }
   ],
   "source": [
    "print(sentiment_label_vocab)"
   ]
  },
  {
   "cell_type": "code",
   "execution_count": 14,
   "metadata": {},
   "outputs": [
    {
     "name": "stdout",
     "output_type": "stream",
     "text": [
      "['None', 'Comfort', 'Size', 'Look', 'Materials', 'Durability', 'Weather_resistance', 'Price', 'Color']\n"
     ]
    }
   ],
   "source": [
    "print(aspect_label_vocab)"
   ]
  },
  {
   "cell_type": "code",
   "execution_count": 15,
   "metadata": {},
   "outputs": [],
   "source": [
    "from sklearn.feature_extraction.text import TfidfVectorizer\n",
    "vectorizer = TfidfVectorizer()\n",
    "X = vectorizer.fit_transform(segs_lst)\n",
    "sent_vectors = X.toarray()\n"
   ]
  },
  {
   "cell_type": "code",
   "execution_count": 16,
   "metadata": {},
   "outputs": [],
   "source": [
    "def sent_to_vec(s):\n",
    "    return sent_vectors[segs_lst.index(s)]"
   ]
  },
  {
   "cell_type": "code",
   "execution_count": 58,
   "metadata": {},
   "outputs": [],
   "source": [
    "def generate_summary(doc):\n",
    "    segments = doc.split(' EDU_BREAK ')\n",
    "    tmp = []\n",
    "    for i, seg in enumerate(segments):\n",
    "        probs1, classes1 = generate_aspect(aspect_model, seg)\n",
    "        #print(seg)\n",
    "        #print(probs1)\n",
    "        #print(aspect_label_vocab[classes1])\n",
    "        polarity = generate_sentiment(senti_model, seg)\n",
    "        #print(probs2)\n",
    "        #print(sentiment_label_vocab[classes2])\n",
    "        #print()\n",
    "        #aspect_score = max(probs1[:]) - probs1[0]\n",
    "        if seg_aspect_map[seg] == \"None\":\n",
    "            aspect_score = 0\n",
    "        else:\n",
    "            aspect_score = 1\n",
    "        senti_score = abs(polarity)\n",
    "        #senti_score = abs(scaled_pols[i][0])\n",
    "        if senti_score < 0.5:\n",
    "            senti_score = 0\n",
    "        if aspect_score*senti_score != 0:\n",
    "            #tmp.append((aspect_score*senti_score, seg, i, aspect_label_vocab[classes1]))\n",
    "            tmp.append((aspect_score*senti_score, seg, i, aspect_label_vocab[classes1]))\n",
    "        \n",
    "    res = sorted(tmp, key=lambda x: x[0], reverse=True)\n",
    "    weights, sents, indices, aspects = map(list, zip(*res))\n",
    "    summary = []\n",
    "    \n",
    "    from sklearn.metrics.pairwise import cosine_similarity\n",
    "    asps = set()\n",
    "    for s, asp in zip(sents, aspects):\n",
    "        #if asp in asps:\n",
    "            #continue\n",
    "        included = False\n",
    "        s1 = sent_to_vec(\" \".join(tfidftokenizer(s))).reshape(1,-1)\n",
    "        #s1 = segment_embedding(s).reshape(1,-1)\n",
    "        for s_prime in summary:\n",
    "            s2 = sent_to_vec(\" \".join(tfidftokenizer(s_prime))).reshape(1,-1)\n",
    "            #s2 = segment_embedding(s_prime).reshape(1,-1)\n",
    "            cosine = cosine_similarity(s1, s2)[0][0]\n",
    "            #print(cosine)\n",
    "            if cosine > 0.25:\n",
    "                included = True\n",
    "                break\n",
    "        if not included and asp != \"None\" and len(summary) < 10:\n",
    "            summary.append(s)\n",
    "            asps.add(asp)\n",
    "    return summary"
   ]
  },
  {
   "cell_type": "code",
   "execution_count": null,
   "metadata": {},
   "outputs": [],
   "source": []
  },
  {
   "cell_type": "code",
   "execution_count": 35,
   "metadata": {},
   "outputs": [],
   "source": [
    "from collections import defaultdict\n",
    "tmp = []\n",
    "data = defaultdict(list)\n",
    "with open('data/gold/aspects/boots-dev.asp', 'r') as f:\n",
    "    aspects = f.readline().rstrip().split('|')\n",
    "    f.readline()\n",
    "    for line in f:\n",
    "        if line != '\\n':\n",
    "            tmp.append(line.rstrip())\n",
    "        else:\n",
    "            id_ = tmp[0]\n",
    "            product_id = id_.split('-')[0]\n",
    "            for text_data in tmp[1:]:\n",
    "                text, aspect = text_data.strip().split('\\t')\n",
    "                data[product_id].append(text)\n",
    "            tmp = []\n",
    "tmp = []   \n",
    "with open('data/gold/aspects/boots-tst.asp', 'r') as f:\n",
    "    aspects = f.readline().rstrip().split('|')\n",
    "    f.readline()\n",
    "    for line in f:\n",
    "        if line != '\\n':\n",
    "            tmp.append(line.rstrip())\n",
    "        else:\n",
    "            id_ = tmp[0]\n",
    "            product_id = id_.split('-')[0]\n",
    "            for text_data in tmp[1:]:\n",
    "                text, aspect = text_data.strip().split('\\t')\n",
    "                data[product_id].append(text)\n",
    "            tmp = []\n"
   ]
  },
  {
   "cell_type": "code",
   "execution_count": 36,
   "metadata": {},
   "outputs": [],
   "source": [
    "data = list(map(lambda x: tuple([x[0], ' EDU_BREAK '.join(x[1])]), data.items()))"
   ]
  },
  {
   "cell_type": "code",
   "execution_count": 37,
   "metadata": {},
   "outputs": [
    {
     "data": {
      "text/plain": [
       "[('B000BNRWFW',\n",
       "  'Advertised as leather, EDU_BREAK but is in fact a cloth backed synthetic! EDU_BREAK Maybe it\\'s a DM knock off. EDU_BREAK It is a cheap, but not inexpensive boot. EDU_BREAK I returned my pair due to the misleading representation. EDU_BREAK I never put EDU_BREAK them on and only listed \" fit as expected \" EDU_BREAK because it was obligatory to write the review. EDU_BREAK Beware! EDU_BREAK These things EDU_BREAK while they look the same, are not. EDU_BREAK The leather is a less finished product, a cheaper leather EDU_BREAK that is not soft at all. EDU_BREAK All in all, not near EDU_BREAK what they were back EDU_BREAK when they were made in England. EDU_BREAK Made in China... sums it up. EDU_BREAK The other reviews were right EDU_BREAK -- Docs are not as comfortable EDU_BREAK as they were back EDU_BREAK when I wore them in high school. EDU_BREAK The leather looks cheaper, EDU_BREAK and it\\'s taking longer EDU_BREAK to break them in. EDU_BREAK They look great, seem to be well made, however, EDU_BREAK is a little tight across the top of foot EDU_BREAK where the tongue is sewn to the top of boot. EDU_BREAK It is painful at the moment, EDU_BREAK but will power through in hopes EDU_BREAK of breaking them in and thus be able to enjoy for a long time. EDU_BREAK These steel toe boots are great. EDU_BREAK Need them for work. EDU_BREAK They are very comfortable EDU_BREAK and provide the protection EDU_BREAK I need. EDU_BREAK Will buy same thing EDU_BREAK again when and if these wear out. EDU_BREAK Yes they have a steal toe EDU_BREAK but they have a tag on them EDU_BREAK that reads `` IMPORTANT WARNINGTheae shoes EDU_BREAK (boots) have EDU_BREAK been designed and manufactured as, and, for use as FASHION FOOTWEAR ONLY. EDU_BREAK They are not for use as safety footwear, EDU_BREAK and should not under any circumstances be worn as safety footwear... `` A warning is also stitched into the inside of the boot near the heal EDU_BREAK that reads `` NON-SAFTY FOOTEAR `` I am a little EDU_BREAK let down that this fact is not listed in the products description. EDU_BREAK The reason I purchased these boots for work EDU_BREAK and they do not meet the required safety standard. EDU_BREAK I got EDU_BREAK black ankle high boots like I wore back in the 90 \\'s.. EDU_BREAK These don\\'t come close to the quality EDU_BREAK they had EDU_BREAK when they were made in UK.. EDU_BREAK Just like everything else, cheaply made shoe from China. EDU_BREAK Leather is very thin & sole EDU_BREAK is super soft unlike the way they were made. EDU_BREAK They are okay boots but very sad to see quality going into the crapper along with everything EDU_BREAK now made in China.. EDU_BREAK I\\'d pay $ 200. 00 for quality boots vs. $ 125. 00 for junk.. EDU_BREAK so I order this shoe is such high hopes, EDU_BREAK shipping was fast so thats a plus. EDU_BREAK Now my issue EDU_BREAK with this boots were EDU_BREAK that they came EDU_BREAK without any type of cushioning??? EDU_BREAK I didn\\'t cared much but EDU_BREAK after I tried them on i EDU_BREAK heard a horrible squeak EDU_BREAK coming out of them. EDU_BREAK I concluded EDU_BREAK that the tongue was the issue. anyways EDU_BREAK i returned them for a pair of DR Martens Saltaire EDU_BREAK ST boots. EDU_BREAK This was 2 years ago so EDU_BREAK hopefully this classic boots changed that. EDU_BREAK I purchased the black steel toe boots. EDU_BREAK When they arrived, EDU_BREAK the little piece inside the shoe EDU_BREAK that goes at the heel EDU_BREAK had fallen off. EDU_BREAK There was some dried glue EDU_BREAK where it was supposed to have been. EDU_BREAK I just stuck it back but seriously? EDU_BREAK I was sort of disappointed EDU_BREAK but other than EDU_BREAK that the boots were in good condition. EDU_BREAK They are comfortable EDU_BREAK after breaking them in! EDU_BREAK Got these bad boys for Christmas. EDU_BREAK Took awhile to break them in EDU_BREAK but am so glad EDU_BREAK I did. EDU_BREAK Very comfortable, EDU_BREAK and I also feel tough with the steel toe. EDU_BREAK Good for the snow too. EDU_BREAK Would recommend for anyone EDU_BREAK who wants traditional and sturdy Dr. Martens.'),\n",
       " ('B000GAUOHS',\n",
       "  'I had such high hopes for these boots EDU_BREAK after reading all the great reviews. EDU_BREAK I am an average sized gal EDU_BREAK and have never had a problem EDU_BREAK zipping up boots, EDU_BREAK but these were way too narrow in the foot and the shaft. EDU_BREAK I wear a size 8 or 8. 5 normally. EDU_BREAK I ordered the 8 EDU_BREAK and couldn\\'t zip them up even half way, EDU_BREAK plus the actual foot part was too narrow. EDU_BREAK I don\\'t think going up half a size EDU_BREAK would have fixed the narrow width or the the narrow shaft, EDU_BREAK so I just returned them for a refund. EDU_BREAK I was really hoping EDU_BREAK these boots would be cute, EDU_BREAK based on some other reviewers. EDU_BREAK But EDU_BREAK when I got them EDU_BREAK and tried them on, EDU_BREAK I was surprised EDU_BREAK that they were loose around my calves - EDU_BREAK usually boots are tight on me in that area. EDU_BREAK Not only that, but the ankle area was really flimsy, EDU_BREAK and collapsed in an unattractive way. EDU_BREAK Had to return them. EDU_BREAK I ordered these boots EDU_BREAK and immediately sent them back. EDU_BREAK Too big and baggy on my skinny calves. EDU_BREAK Ironically enough I bought EDU_BREAK these boots cause EDU_BREAK I found a website EDU_BREAK that specifically recommended them for `` skinny calves \\'\\'. EDU_BREAK I wore them around the house for a while. EDU_BREAK They seems comfy EDU_BREAK but were clearly very cheaply made. EDU_BREAK My quest for skinny calf boots continues... EDU_BREAK bummer. EDU_BREAK These are very comfortable & attractive boots for my office environment. EDU_BREAK I bought them before a trip to Chicago & found them to be very dry, EDU_BREAK but that they would not protect my feet from the cold enough for long walks. EDU_BREAK The aerosoles sole is just like on their shoes - EDU_BREAK which is fairly thin. EDU_BREAK The uppers fit my calf well EDU_BREAK (in recent years EDU_BREAK most boot uppers have been too wide for my leg). EDU_BREAK I only wish EDU_BREAK that they were leather. EDU_BREAK Another positive was the lack of break-in time. EDU_BREAK Wore them 10 hours on the first day. EDU_BREAK I really love these boots. EDU_BREAK They fit perfectly EDU_BREAK and they are VERY comfortable. EDU_BREAK I can wear them all day at work EDU_BREAK and my feet do not hurt at all. EDU_BREAK I am so glad EDU_BREAK that I found these! EDU_BREAK I guess EDU_BREAK I thought the name \" lasticity \" and the description of the stretch of this boot, EDU_BREAK led me to believe EDU_BREAK that it would fit a wider calf. EDU_BREAK I could not even zip this boot up EDU_BREAK and it did not have much stretch to it at all! EDU_BREAK I have about a 17 \" calf so for those of you EDU_BREAK ladies with larger calf sizes... EDU_BREAK this boot is not for you! EDU_BREAK It also appears to be a taller boot, EDU_BREAK but I would say EDU_BREAK it is barely mid-calf. EDU_BREAK Otherwise, it is a nice looking boot for the price. EDU_BREAK Disappointed! EDU_BREAK I learned the hard way EDU_BREAK that the brand name \" Aerosoles \" does not always mean comfort. EDU_BREAK I loved the style EDU_BREAK and tried to use shoe stretch spray EDU_BREAK and wear multiple socks EDU_BREAK to loosen the grip of the shoe around the width of my feet for a week or so to no avail. EDU_BREAK Also, the sole of the boot was very rigid and unforgiving to the the arches of my feet, thus major uncomfort EDU_BREAK pursued my body. EDU_BREAK These boots have a sturdy, comfortable sole with a heel EDU_BREAK that is easy to walk on EDU_BREAK and ample toe room, EDU_BREAK but beyond that, I am disappointed. EDU_BREAK The material is very thin and flimsy EDU_BREAK (don\\'t expect the shaft EDU_BREAK to hold up EDU_BREAK like it does in the picture EDU_BREAK -- it sagged and wrinkled on my thin calves, EDU_BREAK leaving a huge gap between the shaft and my leg). EDU_BREAK In short, EDU_BREAK if you \\'re EDU_BREAK looking for comfort, affordability, EDU_BREAK and have the calves EDU_BREAK to fill these out, EDU_BREAK they are a reasonably attractive boot. EDU_BREAK But don\\'t expect anything beyond that. EDU_BREAK Given the thin quality of the material, EDU_BREAK I doubt EDU_BREAK these boots would last long. EDU_BREAK I really love the boots mainly EDU_BREAK because the bottom of the boots have traction for bad weather EDU_BREAK which is one of the things EDU_BREAK I was looking for. EDU_BREAK They also fit my small calves, EDU_BREAK I have a little room EDU_BREAK but that is okay. EDU_BREAK And they have a little shine EDU_BREAK that is natural EDU_BREAK and I like that. EDU_BREAK They are really comfortable EDU_BREAK and I can wear them to work and not have to take them off all day. EDU_BREAK I have worn them a lot since I purchased them because of the weather here in D.C. EDU_BREAK (cold/snow/wet). EDU_BREAK They are one of my best purchases. EDU_BREAK Thank you. EDU_BREAK I bought these boots EDU_BREAK to wear to my job as a high school teacher. EDU_BREAK I read many reviews EDU_BREAK touting the comfort of these boots EDU_BREAK and they were not lying. EDU_BREAK I have worn them all day - EDU_BREAK I mean from 7 AM until 9PM - EDU_BREAK and my feet do not hurt at all. EDU_BREAK The soles are not hard either, EDU_BREAK which helps in the Maine winter. EDU_BREAK They do not slide easily as many soles tend to do on snow. EDU_BREAK I would buy these boots again. EDU_BREAK They fit snuggly around the heel and leg, EDU_BREAK but not too much so. EDU_BREAK Just enough to stay up, EDU_BREAK I think. EDU_BREAK Some reviews indicated EDU_BREAK they were a bit tight ; EDU_BREAK however, I have no issues. EDU_BREAK I am not overweight, EDU_BREAK but have athletic calves. EDU_BREAK They fit me fine. EDU_BREAK Great boots for the money!'),\n",
       " ('B000ZHDMFS',\n",
       "  \"This shoe hurts. EDU_BREAK As soon as I put it on, I knew EDU_BREAK it was a mistake EDU_BREAK to buy them. EDU_BREAK Where the seams are sewn along all those straps EDU_BREAK crisscrossing the toes EDU_BREAK it is quite irritating. EDU_BREAK I knew EDU_BREAK I would have blisters within minutes EDU_BREAK of walking around in them. EDU_BREAK I tried to take precautions EDU_BREAK by applying band-aids EDU_BREAK before I went for a walk, EDU_BREAK but they were still causing me pain. EDU_BREAK I love the design, the material, and the color. EDU_BREAK BUT for that price I was expecting SUPER COMFY summer shoes. EDU_BREAK This is not the case, EDU_BREAK the inside lining is awful and hurt my feet, EDU_BREAK If I could return them I would. EDU_BREAK I wore them just once : ( EDU_BREAK I saw these in a magazine EDU_BREAK and thought EDU_BREAK they would be great for a cruise EDU_BREAK we are EDU_BREAK taking this summer. EDU_BREAK I have kind of narrow feet EDU_BREAK and the shoe is a little tight, width wise. EDU_BREAK I like the sole EDU_BREAK and they are comfortable to wear around the house but not for actually walking. EDU_BREAK They are pretty heavy too. EDU_BREAK I have a blister after a quick two mile walk EDU_BREAK (with socks) EDU_BREAK but am going to continue to try and break them in. EDU_BREAK I like the toe lift EDU_BREAK (less tripping) EDU_BREAK and they should be cooler than my Nikes. EDU_BREAK They aren't as cute on my size 10 foot as the picture. EDU_BREAK They used more calf muscle than my other shoes EDU_BREAK if that matters to anyone. EDU_BREAK I really love the design of this shoe and the 360 degrees venting concept. EDU_BREAK Definitely agree EDU_BREAK that you need to order a half size down maybe even a full size. EDU_BREAK If your foot is narrow, EDU_BREAK I don't recommend this shoe EDU_BREAK as it fits quite wide. EDU_BREAK I may have to return it because of that. EDU_BREAK Very cute shoe though! EDU_BREAK I finally found the shoe EDU_BREAK that has toe coverage, yet airy, comfortable and cute. EDU_BREAK I saw these shoes on a ad in the travel magazine EDU_BREAK and I purchased the same color. EDU_BREAK The foot bed has memory foam, EDU_BREAK and there is no break in time necessary. EDU_BREAK Love these shoes. EDU_BREAK They look great, EDU_BREAK but are very uncomfortable. EDU_BREAK While generally bigger overall, EDU_BREAK the area around the ball of the foot is not comfortable. EDU_BREAK Also, there are pieces EDU_BREAK inside that are very scratchy and make them not wearable. EDU_BREAK I have several pairs of Jambu shoes EDU_BREAK and love them. EDU_BREAK I've always worn my normal size EDU_BREAK (7). EDU_BREAK I think EDU_BREAK the low sides in this shoe is what make it too big. EDU_BREAK It is way too sloppy for my foot. EDU_BREAK Also the red is not a bright red, but more of a rust. EDU_BREAK Could be a cute shoe, EDU_BREAK but not for me. EDU_BREAK Exchanging for a different style. EDU_BREAK Very cute shoes, though they seem to run a bit wide. EDU_BREAK I don't know EDU_BREAK if they need EDU_BREAK broken in EDU_BREAK or what but they gave me a blister on my heel and the start of a blister above my big toe... EDU_BREAK and I only had them on for an hour just to run to the store EDU_BREAK and come home. EDU_BREAK They seem to be well made they just fit kinda funny. EDU_BREAK I really like this shoe. EDU_BREAK It is to wide for my feet, EDU_BREAK but because their a mary jane I can still make them work. EDU_BREAK I wore them EDU_BREAK the other dayand EDU_BREAK they were very comfortable. EDU_BREAK saw these advertised in a magazine. EDU_BREAK Was looking for a good comfortable pair of walking shoes. EDU_BREAK These are perfect. EDU_BREAK Fit as expected, true to size and extremely comfortable. EDU_BREAK Nice looking shoes.\"),\n",
       " ('B001RIYTK6',\n",
       "  \"Great fit, however my socks were soaked the first time EDU_BREAK I wore them out in the rain. EDU_BREAK I was really upset EDU_BREAK because they were suppose to keep my feet dry! EDU_BREAK I returned them as a defective item back to Amazon. EDU_BREAK These run small EDU_BREAK and EDU_BREAK if you have bigger calves EDU_BREAK they won't fit EDU_BREAK (you can't tuck your pants in). EDU_BREAK They were a little thinner in material than the true barn boots EDU_BREAK I am use to, EDU_BREAK so don't buy EDU_BREAK if you will be needing to use for heavy work. EDU_BREAK Definitely order a size bigger than your foot EDU_BREAK as I followed the advice on the other buyers here. EDU_BREAK It has pretty good traction for a rainy day EDU_BREAK and interestingly enough I didn't slip that much on ice with these things on. EDU_BREAK HOWEVER, these aren't worth the price for these shoes. EDU_BREAK After maybe two months the rubber actually starting EDU_BREAK tearing at the side of the soles from the constant folding the rubber had gone through in my numerous walks. EDU_BREAK Also, the buckles at the top are pretty much there for decoration EDU_BREAK and sometimes would come out of the buckles EDU_BREAK to hang quite unattractively on the side. EDU_BREAK If you 're EDU_BREAK looking for rainboots, EDU_BREAK definitely go for better ones than these. EDU_BREAK I love my red boots. EDU_BREAK They are very sturdy EDU_BREAK and keep the rain out. EDU_BREAK They look good EDU_BREAK and will last a long time EDU_BREAK (long after red rubber boots go out of style, I'm sure). EDU_BREAK My one complaint is EDU_BREAK that they kind of smell EDU_BREAK when I wear then indoors. EDU_BREAK But this is obviously EDU_BREAK because it's a rubber boot EDU_BREAK and I shouldn't be wearing them for fashion indoors anyway. EDU_BREAK What a great pair of boots, EDU_BREAK not only are they cute but super comfortable and very durable. EDU_BREAK I spent the night with our cub scout den on Alcatraz Island in San Francisco, lots of puddles and rain EDU_BREAK most of one day my feet never hurt and never got wet... EDU_BREAK and I looked cute! EDU_BREAK These boots look good and fit great, EDU_BREAK they have a nice thick sole with good tread. EDU_BREAK I thought EDU_BREAK I had finally found the perfect pair of boots. EDU_BREAK Then the second time EDU_BREAK I wore them both feet EDU_BREAK leaked. EDU_BREAK What's the point of rainboots EDU_BREAK that don't keep your feet dry?? EDU_BREAK BIG waste of money. EDU_BREAK Next time I'm going to LL Bean. EDU_BREAK So, I bought these shoes EDU_BREAK and they were fine. EDU_BREAK Hardly wore them, EDU_BREAK but it's been two years EDU_BREAK and I had to go back to my reliable LL Beane duck boots EDU_BREAK because these Chooka's split EDU_BREAK after sitting in a humidified room for two years. EDU_BREAK Buyer beware. EDU_BREAK I buy my shoes to last. EDU_BREAK This boots appeared great but too small. EDU_BREAK I have always been a 8 EDU_BREAK but even with a very thin sock they were really tight. EDU_BREAK Plus the insole was oversized EDU_BREAK and would have to be trimmed. EDU_BREAK I am disappointed EDU_BREAK because they looked and felt like great boots. EDU_BREAK Great price too EDU_BREAK but BE AWARE. EDU_BREAK The seller accepted a return EDU_BREAK but I had to pay the shipping. EDU_BREAK That cost a third of the price of the boot. EDU_BREAK Also boots EDU_BREAK sent in oversized mailing envelope EDU_BREAK (which is destroyed EDU_BREAK when opening), EDU_BREAK would have been nice EDU_BREAK if they had packed one in for a return. EDU_BREAK I had to hunt for a box EDU_BREAK to return in. EDU_BREAK I would not deal with this seller again. EDU_BREAK I love the color and craftsmanship of this boot, EDU_BREAK however it runs about a half size small. EDU_BREAK I bought boot socks EDU_BREAK to wear this EDU_BREAK and there is no way EDU_BREAK to fit them in and my feet too. EDU_BREAK However my roommate EDU_BREAK who is a half to full size smaller EDU_BREAK says EDU_BREAK it fits great for her. EDU_BREAK So definitely order up! EDU_BREAK Although some other reviews scared me EDU_BREAK before buying this product, EDU_BREAK I am very pleased with my new rain boots. EDU_BREAK They fit very comfortably, even with thicker socks. EDU_BREAK I really like the buckle EDU_BREAK and think EDU_BREAK it gives the boots some cute flair. EDU_BREAK I definitely recommend this product to anyone EDU_BREAK who wants to have high-quality rain boots EDU_BREAK without paying an absurd about of money.\"),\n",
       " ('B004D3CFYE',\n",
       "  \"I purchased these hiking boots specifically EDU_BREAK because they claimed to be waterproof. EDU_BREAK The boot even has a little tag on the side EDU_BREAK indicating so. EDU_BREAK Apparently Merrell is very proud of it. EDU_BREAK Long story short, they are anything but waterproof. EDU_BREAK Even water-resistant would be too generous. EDU_BREAK As my husband aptly put it, EDU_BREAK porous is the term EDU_BREAK that best describes the material. EDU_BREAK Walking through dewy grass for more than a couple of minutes will leave your feet soaking wet. EDU_BREAK The seams let water penetrate immediately, EDU_BREAK which I found out EDU_BREAK after walking through a shallow puddle. EDU_BREAK The boot does not perform any better EDU_BREAK at repelling water than my sandals. EDU_BREAK It is that bad. EDU_BREAK A complete waste of money EDU_BREAK if you purchase these with the intention EDU_BREAK of keeping your feet dry. EDU_BREAK I'm not crazy about these boots. EDU_BREAK They are very uncomfortable in the foot bed. EDU_BREAK I can't imagine wearing these shoes to go hiking in. EDU_BREAK My feet would be killing me. EDU_BREAK Sorry to say, EDU_BREAK they went back. EDU_BREAK I have worn Merrell hiking boots for maybe 20 years. EDU_BREAK This would be my fourth of fifth pair. EDU_BREAK Although they are somewhat comfortable to wear for walking, EDU_BREAK my feet hurt after short level ground hikes. EDU_BREAK They rubbed on both sides of the toe area where my feet are wide EDU_BREAK (and EDU_BREAK why I buy Merrell boots). EDU_BREAK I did not break them in and that could be a factor. EDU_BREAK They are light weight and look good, but I am disappointed in the discomfort. EDU_BREAK I bought these shoes just before a trip to Niagara Falls EDU_BREAK and had them shipped overnight. EDU_BREAK Thank goodness EDU_BREAK I read the suggestions by other reviewers EDU_BREAK to order 1/2 size up bacause EDU_BREAK these shoes definately run small. EDU_BREAK I ordered a 9, EDU_BREAK usually wear an 8?1/2, EDU_BREAK and I could possibly have ordered a 9?1/2 EDU_BREAK because my toe is at the end of the shoe EDU_BREAK (but not cramped enough for me EDU_BREAK to be unable to wear them). EDU_BREAK That EDU_BREAK being said, EDU_BREAK these shoes really are comfortable with no break in time required. EDU_BREAK I took them straight out of the box EDU_BREAK and wore them to walk all around Niagara Falls EDU_BREAK without any discomfort. EDU_BREAK And they are waterproof!! EDU_BREAK I tested it by wearing them on the Maid of the Mist boat ride to the bottom of the falls. EDU_BREAK I got soaked EDU_BREAK but my feet stayed dry!! EDU_BREAK I would definately recommend these shoes to anyone EDU_BREAK and I 'm EDU_BREAK considering getting another pair for myself! EDU_BREAK These boots are awesome! EDU_BREAK They are perfect for being on your feet all day EDU_BREAK and are amazingly waterproof. EDU_BREAK My feet NEVER get wet even when the outside of the boots are soaked. EDU_BREAK I bought supports with them EDU_BREAK initially because I have high arches EDU_BREAK but I didn't even end up EDU_BREAK needing them, EDU_BREAK they provided adequate support themselves. EDU_BREAK Definitely worth the money. EDU_BREAK I bought these shoes from Comet shoes on amazon.com EDU_BREAK and wore it 2 times EDU_BREAK before the seam came apart from the sole. EDU_BREAK All this after just 2 regular wears... EDU_BREAK not even a strenuous hike! EDU_BREAK I suspect EDU_BREAK Comet shoes is are selling counterfeit products EDU_BREAK because Merrell shoes are more reliable. EDU_BREAK I would not be surprised EDU_BREAK if other sellers are EDU_BREAK following a similar practice. EDU_BREAK I filed EDU_BREAK a complain about this was told there's nothing EDU_BREAK you can do EDU_BREAK to help EDU_BREAK because it's been 90 days since my purchase. EDU_BREAK It's shameful EDU_BREAK that they only look at the date of sale and not the usage EDU_BREAK before making a refund decision. EDU_BREAK These are extremely comfortable boots, EDU_BREAK I did order a half size larger, EDU_BREAK I love them ; EDU_BREAK however, I bought them in February EDU_BREAK and by April the inside fabric of the heel area of my right boot is torn EDU_BREAK and falling apart. EDU_BREAK Obviously, a poorly made shoe or inferior materials. EDU_BREAK I liked these shoes for the fit and comfort. EDU_BREAK They were waterproof at first, EDU_BREAK but after wearing them for a few months they became quite leaky. EDU_BREAK So EDU_BREAK if you need something waterproof you EDU_BREAK should probably look elsewhere. EDU_BREAK I have hard to fit feet EDU_BREAK since I need orthotics. EDU_BREAK These are a little smaller EDU_BREAK than I'd like, EDU_BREAK but generally ok. EDU_BREAK I like the heel support and the height is just right to provide support EDU_BREAK without rubbing. EDU_BREAK Mainly I need walking shoes EDU_BREAK that are waterproof EDU_BREAK and so far EDU_BREAK they 've EDU_BREAK been ok, EDU_BREAK walking through wet grass, EDU_BREAK although haven't had a chance EDU_BREAK to try them in rain EDU_BREAK (keeps raining at night!). EDU_BREAK The color is nice, more light blue than purple. EDU_BREAK I've tried the shoes in stores EDU_BREAK but neither had the size EDU_BREAK I needed. EDU_BREAK I was super delighted to discover EDU_BREAK Amazon was selling a third color EDU_BREAK (grey/blue) at the same price. EDU_BREAK So with prime membership and tax-free, it was a done deal! EDU_BREAK Also, you will need to buy a 0. 5 size bigger EDU_BREAK if you want to have a little bit of room after hiking for hours. EDU_BREAK Otherwise, the size EDU_BREAK that you would normally wear EDU_BREAK would be quite snug. EDU_BREAK The shoes also needed to be broken into, EDU_BREAK but I survived my first hike this past weekend with very minor blisters. EDU_BREAK It's very sturdy and helped steady my ankles EDU_BREAK (I rolled them a lot EDU_BREAK when I just wore running shoes). EDU_BREAK Great shoes for hiking in all kinds of weather, EDU_BREAK that protects your feet EDU_BREAK and keep them warm. EDU_BREAK Thanks!\"),\n",
       " ('B004LLSV5U',\n",
       "  \"I was happy EDU_BREAK when I purchased them, EDU_BREAK but the first I stepped into a puddle [ EDU_BREAK not even deep enough EDU_BREAK to cover all the boot] water ran into my foot. EDU_BREAK Then I tried them in the snow EDU_BREAK and my feet got really wet and cold. EDU_BREAK I wish EDU_BREAK I could return them now. EDU_BREAK While they are very cute EDU_BREAK (I love the color) EDU_BREAK it's extremely hard EDU_BREAK to get them on and off. EDU_BREAK You have to unlace so much of the boot EDU_BREAK to get into it... EDU_BREAK and then of course, you have to lace it back up. EDU_BREAK It takes too much time. EDU_BREAK I wish EDU_BREAK I would have bought a zip up. EDU_BREAK These boots are unbelievably gorgeous and blue is my favorite color. EDU_BREAK I just wish EDU_BREAK the heel piece wasn't so hard ; EDU_BREAK it rubs the backs of my ankles raw EDU_BREAK and I can not wear them but for so long. EDU_BREAK They do have good ankle support however EDU_BREAK which is important in icy conditions. EDU_BREAK A good pair of boot socks or a shoe horn might be able to fix the ankle rubbing issue. EDU_BREAK The boots are waterproof and fully lined ; very warm! EDU_BREAK These fit well EDU_BREAK and they are comfortable. EDU_BREAK I would recomend them for the all the snow EDU_BREAK we have been EDU_BREAK having in NY. EDU_BREAK They only issue EDU_BREAK I have it EDU_BREAK that I didn't realize what a pain EDU_BREAK it would be to lace them up. EDU_BREAK I am very excited to wear these books this winter. EDU_BREAK They arrived quickly and without issues with the seller or the product. EDU_BREAK They appear to be very well made EDU_BREAK and are comfortable to wear around. EDU_BREAK As someone EDU_BREAK who loves slip on/no fuss shoes, EDU_BREAK these are a little more time intensive to unlace/relace EDU_BREAK (loosen) EDU_BREAK to put on but they are snug EDU_BREAK and I know EDU_BREAK will keep my feet and legs dry and warm during the winter/snow/rain. EDU_BREAK The boots in person don't have the same look as in the picture. EDU_BREAK They are big shaft shoes!! EDU_BREAK They are EDU_BREAK made by two layers of thick fabric. EDU_BREAK So if you want a pair of casual, very casual, boots EDU_BREAK what is very very warm, EDU_BREAK they may be EDU_BREAK what you want. EDU_BREAK It's because the way EDU_BREAK it's constructed, EDU_BREAK the shafts are narrow and very very hard to put on. EDU_BREAK I tried to adjust with the shoe laces. EDU_BREAK It ended up not able to maintain the look. EDU_BREAK I think EDU_BREAK it should be told how small these boots are running EDU_BREAK :) they are wonderful contructed boots but very small. EDU_BREAK I have to get two size larger EDU_BREAK to wear with a pair of socks! EDU_BREAK not good EDU_BREAK What I love about this boot is EDU_BREAK how tall it is. EDU_BREAK I live in the mountains in Colorado EDU_BREAK and the snow gets deep EDU_BREAK so I needed something tall. EDU_BREAK Great color and good warmth. EDU_BREAK What I do not like is EDU_BREAK they are very difficult to slip on and take off. EDU_BREAK It's like the jaws of life. EDU_BREAK I tried them EDU_BREAK without socks EDU_BREAK and they slip on a little easier. EDU_BREAK I will keep them in hoping EDU_BREAK that they'll loosen up some. EDU_BREAK Untying them doesn't help/work EDU_BREAK as that is just part of the boots looks. EDU_BREAK Maybe other buyers will have better luck. EDU_BREAK Ordered these EDU_BREAK because they were very much on sale EDU_BREAK and would get here FAST! EDU_BREAK We have snow pretty regularly EDU_BREAK where I live, EDU_BREAK and I like to have a range of snow boots to keep it interesting. EDU_BREAK I am very impressed with the warmth of this boot. EDU_BREAK Of course it takes a little time to lace up, EDU_BREAK but it's not bad. EDU_BREAK You 've EDU_BREAK got to be prepared for cold, wet snow, EDU_BREAK so why not spend a little time? EDU_BREAK I'm usually a 7 but the 6. 5 fit fine. EDU_BREAK These have a fairly good sole, good support, and of course great warmth, especially for synthetic insulating materials. EDU_BREAK I'd give them 5 stars EDU_BREAK if Timberland made them in the USA. EDU_BREAK Wow!!! EDU_BREAK This boots are so beautiful and comfortable. EDU_BREAK I was so impressed how well are made. EDU_BREAK The price was perfect for me. EDU_BREAK I totally recommend the boots to anyone EDU_BREAK who's looking for a great deal.\"),\n",
       " ('B004SAS28K',\n",
       "  'For the amount of money I paid EDU_BREAK one would expect to be able to at least put them on! EDU_BREAK Fitflop has such great soles for the footwear EDU_BREAK but these are so awkward to try to put on, EDU_BREAK it requires a shoe horn EDU_BREAK and bruises the top of the foot! EDU_BREAK As I discarded the packing materials I am EDU_BREAK keeping them EDU_BREAK but will snip the stitching to at least be able to wear them. EDU_BREAK Very disappointed. EDU_BREAK They were comfortable EDU_BREAK once I finally got my foot in them, EDU_BREAK but putting them on with socks was a task. EDU_BREAK I had to have help EDU_BREAK I guess EDU_BREAK my foot was too wide from the bottom to the top of my ankle joint. they would have been perfect EDU_BREAK if they had elastic or zipper on the side EDU_BREAK to help with the foot going into the boot. EDU_BREAK Sadly, I have printed off a return label EDU_BREAK to send these back. EDU_BREAK They came in, EDU_BREAK they looked great, and they I tried to put them on... EDU_BREAK With all those EDU_BREAK saying how hard they were to get on, EDU_BREAK I thought \" EDU_BREAK it shouldn\\'t be a problem EDU_BREAK \". Wrong. EDU_BREAK I couldn\\'t even get them on to see how they looked EDU_BREAK or fit EDU_BREAK once my foot was in them! EDU_BREAK They looked great, EDU_BREAK I was excited for them, EDU_BREAK but EDU_BREAK if you can\\'t get your foot it, EDU_BREAK it\\'s a waste. EDU_BREAK I can\\'t give them a 1 EDU_BREAK because they looked nice EDU_BREAK and would surely have been comfortable, EDU_BREAK but i couldn\\'t get them on EDU_BREAK and had to return them so no 5 either. EDU_BREAK They are cozy warm and comfortable EDU_BREAK just like the Fit Flops I wear all summer long. EDU_BREAK The only problem EDU_BREAK I have had with these EDU_BREAK is trying to slide them EDU_BREAK on when wearing socks. EDU_BREAK There is friction with the suede inside EDU_BREAK so they don\\'t go on easily. EDU_BREAK I need a shoe horn. EDU_BREAK They are easy to slide off EDU_BREAK but putting them on is difficult. EDU_BREAK Still worth it though EDU_BREAK once they are on. EDU_BREAK They look great EDU_BREAK and feel great. EDU_BREAK I needed to replace my much loved Uggs. EDU_BREAK I wanted extreme comfort & extreme ease EDU_BREAK of wearing. EDU_BREAK These boots have both. EDU_BREAK The only thing EDU_BREAK that could improve them EDU_BREAK would be fleece inside. EDU_BREAK I do kind of miss that. EDU_BREAK True to size, soft suede especially on ankle area, superb FitFlop comfort EDU_BREAK (I have been a Fit Flop Fan for many years now) EDU_BREAK and casual, EDU_BREAK go with everything looks make this EDU_BREAK a great find. EDU_BREAK I ususally don\\'t shoe shop online, EDU_BREAK but EDU_BREAK since Amazon offered free returns, EDU_BREAK I thought \" EDU_BREAK what the heck \". EDU_BREAK I have returned about 80 % of the shoes EDU_BREAK I ordered, EDU_BREAK but FitFlops always fit first time! EDU_BREAK You won\\'t be disappointed! EDU_BREAK The size was right EDU_BREAK but I couldn\\'t get my foot EDU_BREAK in because there was no easement like a zipper or elastic. EDU_BREAK I was very disappointed EDU_BREAK as I love EDU_BREAK Fit Flop sandals and loved the style. EDU_BREAK I had to return them. EDU_BREAK I feel EDU_BREAK you need to design these with a zipper. EDU_BREAK This boot has nothing to unzip or anything flexible to make it possible to get the boot on your foot. EDU_BREAK Ridiculous design. EDU_BREAK The buckle is only for looks, EDU_BREAK and you would assume EDU_BREAK the inner ankle has an elastic insert. EDU_BREAK You would be wrong. EDU_BREAK You have to literally shove and push your foot into this boot in order to get it on. EDU_BREAK The reason EDU_BREAK I gave it two stars EDU_BREAK is EDU_BREAK that once its ON, its fine, and I love fitflops comfort. EDU_BREAK Get ready to ruin your nails, work up a sweat, EDU_BREAK and scratch up your fingers getting your foot into the things though. EDU_BREAK The boot looks great. EDU_BREAK But was unable to slip it on as there are no side zippers. EDU_BREAK Probably i need to order it in a larger size. EDU_BREAK I like a pair EDU_BREAK that i can easily slip on and not struggle to put it on. EDU_BREAK Would recommend getting 1 size larger. EDU_BREAK These are very comfortable. EDU_BREAK As other reviewers have commented, EDU_BREAK they can be hard to get on in the first week or so. EDU_BREAK A tab in the back would help EDU_BREAK but may be unsightly. EDU_BREAK The comfort exceeds the slight hassle. EDU_BREAK Last years version of this boot was a few inches taller EDU_BREAK and I liked it a bit better. EDU_BREAK This current style can look a little short EDU_BREAK if you are EDU_BREAK looking to tuck in skinny jeans. EDU_BREAK Nonetheless, I will continue to buy FitFlops as long as they are EDU_BREAK made because of the comfort. EDU_BREAK If you plan to wear thick socks for added warmth EDU_BREAK you may want to go up a half size if available. EDU_BREAK These do not have a fuzzy warm interior. EDU_BREAK I would not suggest wearing them in a heavy rain, EDU_BREAK although have not had any issues EDU_BREAK while wearing them EDU_BREAK while running errands during wet rainy Pacific NW winter. EDU_BREAK I like these boots, EDU_BREAK I bought a pair last year on sale in a different color. EDU_BREAK I waited EDU_BREAK until the price was right EDU_BREAK and ordered these, EDU_BREAK they arrived the other day. EDU_BREAK I had to go ONE SIZE DOWN in this style boot. EDU_BREAK I know EDU_BREAK that from ordering the size I EDU_BREAK usually wear last year EDU_BREAK and had to exchange them. EDU_BREAK They are a little difficult EDU_BREAK to get on the first few time, EDU_BREAK but they do stretch EDU_BREAK and they are just as comfy as all my other FITFLOPS. EDU_BREAK I have a very nice collection. EDU_BREAK I also have a thin foot. EDU_BREAK If you have a wide foot, EDU_BREAK these are NOT the boots for you. EDU_BREAK They are cute with jeans and leggings. EDU_BREAK Thanks!'),\n",
       " ('B004UER758',\n",
       "  \"I hate these. EDU_BREAK They do not fit well, are horribly uncomfortable EDU_BREAK and make a squeaky noise no matter what type of floor you are walking on. EDU_BREAK I used to be a big fan of MInnetonka EDU_BREAK but I guess EDU_BREAK it's not the 70 EDU_BREAK 's anymore. EDU_BREAK You would think EDU_BREAK they would consider comfort EDU_BREAK but I guess EDU_BREAK they are only going for cute.. EDU_BREAK These were very narrow. EDU_BREAK Will have to return them. EDU_BREAK Was sad EDU_BREAK that my 10 year old granddaughter's Christmas gift was a bust. EDU_BREAK Such a beautiful moccasin but a shame they didn't seem true to size. EDU_BREAK I ordered these in a 7?1/2 EDU_BREAK which I usually wear EDU_BREAK but sent them back because too big. EDU_BREAK A 7 was sent to me EDU_BREAK but they are still too big, EDU_BREAK I sould EDU_BREAK have ordered a whole size down EDU_BREAK but I didn't want to send back and wait more time to get them AGAIN! EDU_BREAK They are awesome looking EDU_BREAK and I do love them. EDU_BREAK The ankle is a little too large EDU_BREAK but that 's EDU_BREAK because I'm petite. EDU_BREAK I'd recommend these any day EDU_BREAK but just be aware of the sizing. EDU_BREAK Love the style and taupe color is perfect. EDU_BREAK They are a comfortable fit on width, but a little long in length. EDU_BREAK Normally a 9 fits perfect, EDU_BREAK but this is a tab long. EDU_BREAK I've worn them EDU_BREAK and it's not an issue. EDU_BREAK Well made and just something different to wear. EDU_BREAK These boots are really cute and great quality. EDU_BREAK I love wearing them with skinny jeans or with tights and a dress. EDU_BREAK I am usually a size 6 and so I ordered a size 6. EDU_BREAK They are too big even with heavy socks, EDU_BREAK so I'd say size down a half or maybe even full size. EDU_BREAK I decided to keep mine EDU_BREAK even though they are too big though - EDU_BREAK the sizing issue doesn't give me any problems EDU_BREAK since they are flats, EDU_BREAK and being booties are secure around the ankle. EDU_BREAK When I got them, EDU_BREAK the fringe was all crazy and going in every which direction, EDU_BREAK but I just smoothed down the fringe, EDU_BREAK laid the boots on their side EDU_BREAK and rested some heavy books on top of them for a few days. EDU_BREAK After that, they looked better, and then EDU_BREAK the fringe also just naturally calmed down with time. EDU_BREAK Great buy - love Minnetonka! EDU_BREAK The seam on the top of the foot sits too low and rubs against the top of the foot. EDU_BREAK Tried multiple sizes and they all had the same seam issue. EDU_BREAK Very cute EDU_BREAK if you don't mind a little discomfort and blisters. EDU_BREAK I returned them. EDU_BREAK Not worth it to me. EDU_BREAK I was super excited to get these EDU_BREAK but after on the second day of use one of the metal buttons above the fringe broke off AND the zipper's leather tassel came undone, EDU_BREAK when I tried to tie it back EDU_BREAK it would stay tied as well. EDU_BREAK The shoe its self is stylish, EDU_BREAK but not good for an every day use. dont waste your money on these, EDU_BREAK especially if you are looking for a shoe EDU_BREAK to wear everyday! EDU_BREAK I wanted a true purple boot, EDU_BREAK it was a washed purplish but not a true purple, EDU_BREAK I am always a 9. 5 EDU_BREAK but they were a little long on me. EDU_BREAK I think overall they were a nice look. EDU_BREAK I was looking for something comfy EDU_BREAK that would work for fall -- EDU_BREAK these boots are very nice, well made, EDU_BREAK but, EDU_BREAK as other reviewers have pointed out : Narrow. EDU_BREAK My feet are medium width, EDU_BREAK and these moccasins were tight. EDU_BREAK They have stretched a little, EDU_BREAK but here's the thing - EDU_BREAK the bottom tread is cut to this narrow width. EDU_BREAK Otherwise, nice, EDU_BREAK but maybe get a size or half size up EDU_BREAK and fill in with thick socks EDU_BREAK to make them fit. EDU_BREAK Minnetonka makes the best moccasins EDU_BREAK you can buy! EDU_BREAK The colour is beautiful EDU_BREAK the attention to detail is great! EDU_BREAK So well made so very comfortable! EDU_BREAK I get tons of compliments EDU_BREAK when I wear them! EDU_BREAK I really love EDU_BREAK that this is a limited edition item EDU_BREAK and EDU_BREAK when they are gone EDU_BREAK they are gone EDU_BREAK and I got them! EDU_BREAK I love the colour plum EDU_BREAK and it's nice to know EDU_BREAK that my boots are special!\"),\n",
       " ('B008BG2IM8',\n",
       "  \"I ordered these shoes in a wide size, EDU_BREAK but found EDU_BREAK that after only about an hour my toes were completely numb. EDU_BREAK Normally ordering my size in a wide works very well, EDU_BREAK but not with this shoe. EDU_BREAK It is painful! EDU_BREAK I actually wound up wearing my sneakers for the rest of the day at work. EDU_BREAK Not good! EDU_BREAK With that said, EDU_BREAK I have these remaining things to share about this shoe : EDU_BREAK First, I recommend not ordering these EDU_BREAK if you have wide feet - EDU_BREAK they are NOT wide. EDU_BREAK Second, EDU_BREAK they seem EDU_BREAK like they fit a little `` short '' ; EDU_BREAK if you have narrow feet EDU_BREAK and still want to try them, EDU_BREAK I recommend you try 1/2 size up. EDU_BREAK Third, the shoes seem EDU_BREAK well made EDU_BREAK and appear to be decent quality. EDU_BREAK However, that was not enough EDU_BREAK to make up for my suffering. EDU_BREAK I do not recommend this shoe or this brand, EDU_BREAK to be honest. EDU_BREAK Get on the ball Naturalizer ; EDU_BREAK I expected more from you! EDU_BREAK The reviews had said a little narrow. EDU_BREAK Because I am not a big person, EDU_BREAK I thought EDU_BREAK that would work for me. EDU_BREAK After wearing them for 20 minutes, EDU_BREAK I could not wear them another second longer. EDU_BREAK They killed my feet! EDU_BREAK I won't bother trying to find the right fit at this point, EDU_BREAK I will go with other brands EDU_BREAK I know better. EDU_BREAK I loved the look and color EDU_BREAK so I am disappointed EDU_BREAK they didn't fit properly. EDU_BREAK I absolutely love the style EDU_BREAK and wish they fit right. EDU_BREAK At first I thought EDU_BREAK they were just a little snug EDU_BREAK and they didnt ' hurt. EDU_BREAK Once the weather got cold the shoes became more stiff and they really hurt now EDU_BREAK so it looks like I wasted $ 40. EDU_BREAK These shoes are very comfortable and cute. EDU_BREAK However, I would order one size larger than normal. EDU_BREAK I usually wear EDU_BREAK a B width and these are very narrow. EDU_BREAK You'll get blisters EDU_BREAK if you don't wear socks with them EDU_BREAK because they're so narrow. EDU_BREAK I ordered a half size larger EDU_BREAK and they were still a little tight. EDU_BREAK They're very good quality. EDU_BREAK I am actually wearing these shoes today. EDU_BREAK They are much more comfortable than some of my other heels of similar design and height. EDU_BREAK The insoles are quite cushioned EDU_BREAK and they look and feel great. EDU_BREAK Love them! EDU_BREAK The shoes EDU_BREAK I ordered EDU_BREAK were labeled as 10W, EDU_BREAK but there is no way EDU_BREAK this shoe is a wide width. EDU_BREAK I have several pairs of shoes in this style EDU_BREAK that are wide width EDU_BREAK and they all fit fine right out of the box. EDU_BREAK This shoe company needs to assess EDU_BREAK all their shoes labeled wide width EDU_BREAK and mark them to USA shoe size standards EDU_BREAK so they're labeled properly EDU_BREAK so their customers aren't wasting their time with returning shoes EDU_BREAK that don't fit. EDU_BREAK I ordered these a half-size up EDU_BREAK and they still fit poorly. EDU_BREAK I wear an average-width size EDU_BREAK 8. 5 EDU_BREAK and I'm not sure EDU_BREAK whose foot these were intended to fit. EDU_BREAK I rarely have problems with the size of shoes EDU_BREAK I order online. EDU_BREAK The toe box is quite narrow, EDU_BREAK which is a problem for shoes with a heel of this height. EDU_BREAK They also look cheap, EDU_BREAK which I guess EDU_BREAK they are, EDU_BREAK but the picture is misleading. EDU_BREAK I am wondering EDU_BREAK if they are worth returning or just passing off to someone with narrow feet. EDU_BREAK I don't think I know anyone EDU_BREAK who would wear these anyway. EDU_BREAK I thought EDU_BREAK the taupe would look like the picture. EDU_BREAK It does n't. EDU_BREAK What I received is a grayish brown shoe. EDU_BREAK I am consistently a size 8 medium shoe. EDU_BREAK This shoe is snug EDU_BREAK and my toes EDU_BREAK hurt after a wearing the shoes a few hours. EDU_BREAK Since this isn't a leather shoe, EDU_BREAK it won't adjust to my feet EDU_BREAK and so will always be just a bit too snug. EDU_BREAK Although, not excessively small, I would suggest EDU_BREAK going down a half size. EDU_BREAK I wear a thin trouser sock with this shoe EDU_BREAK and it's still too small. EDU_BREAK I agree with the other reviewers... EDU_BREAK these run a little narrow. EDU_BREAK But get the size right and these are awesome. EDU_BREAK Lots of compliments and the stretchy band helps with the fit EDU_BREAK -- EDU_BREAK after a few days of breaking them in I can wear them comfortably all day. EDU_BREAK They look great with jeans -- super cute! EDU_BREAK I would recommend ordering the wide in your normal shoe size EDU_BREAK or go up a half size EDU_BREAK if you normally wear a wide shoe. EDU_BREAK The soft pillow cushion, wide heel, and soft-arch make them the perfect all-day shoe. EDU_BREAK This is definitely a comfortable shoe. EDU_BREAK Fits perfect and the insole is soft EDU_BREAK and feels great on my feet. EDU_BREAK I wear a size 10?1/2 EDU_BREAK I chose size 11. EDU_BREAK And it fits perfect. EDU_BREAK Definitely would recommend this shoe, EDU_BREAK looks sleek, dressy, EDU_BREAK not to high with the heel, and great with jeans. EDU_BREAK Love them!\"),\n",
       " ('B00EFD6B8I',\n",
       "  'At first I loved EDU_BREAK them!! EDU_BREAK Wore them all the time. EDU_BREAK Then one night about 3 weeks EDU_BREAK after I got them the heel collapsed. EDU_BREAK My friend looked at the heel EDU_BREAK and it was a hollow heel. EDU_BREAK No support in the heel. EDU_BREAK Very disappointed in my purchase. EDU_BREAK These boots are adorable EDU_BREAK and they fit perfectly. EDU_BREAK I usually wear a 9?1/2 EDU_BREAK and ordered a 10 EDU_BREAK since there wasn\\'t an option for the half size. EDU_BREAK They fit great EDU_BREAK and are pretty comfortable too. EDU_BREAK However, I\\'ve worn them out three times and don\\'t think EDU_BREAK I will ever wear them again. EDU_BREAK The heel is made of cheep rubber and deflates EDU_BREAK when I walk. EDU_BREAK So if i\\'m walking on my tip-toes EDU_BREAK and don\\'t put pressure on my heels EDU_BREAK they\\'re okay EDU_BREAK but if I walk normally at all, EDU_BREAK they deflate and make an annoying squish sound. EDU_BREAK Very disappointed in the quality of these. EDU_BREAK I was excited to receive these boots. EDU_BREAK The color was exactly EDU_BREAK was EDU_BREAK I was looking for. EDU_BREAK They are a little shorter EDU_BREAK than I thought EDU_BREAK they\\'d be. EDU_BREAK Also the left one is much bigger than the right. EDU_BREAK I have never had a problem like this with shoes, EDU_BREAK not ever. EDU_BREAK I was a little disappointed. EDU_BREAK I still wear them just not as often. EDU_BREAK These boots are exactly as pictured. EDU_BREAK They are very light weight & fairly comfortable. EDU_BREAK Obviously, these boots aren\\'t made to wear daily, but more so EDU_BREAK to wear with that \" perfect outfit \" here & there. EDU_BREAK The boots are grey, EDU_BREAK which I was pleasantly surprised because other boots EDU_BREAK I \\'ve EDU_BREAK tried to get EDU_BREAK that coloring will show up charcoal or silver. EDU_BREAK The color & style is wonderful! EDU_BREAK I do love them! EDU_BREAK I love EDU_BREAK these boots, EDU_BREAK if you are looking for cowgirl boots EDU_BREAK that wont cost an arm and a leg, EDU_BREAK look no farther! EDU_BREAK I have a couple different pairs of these, EDU_BREAK and they go with anything! EDU_BREAK I wear them with jeans and dresses! EDU_BREAK Very comfy and stylish. EDU_BREAK Size it true to fit also! EDU_BREAK I wear between a 7 and a half and an 8. EDU_BREAK I ordered a size 8 just in case EDU_BREAK and they fit perfect! EDU_BREAK These boots are so cute, EDU_BREAK but the sole is made of a cheap material EDU_BREAK and walking in them is squishes down a little... EDU_BREAK I\\'ve worn mine about 10 times EDU_BREAK and the heels of the shoes are falling apart. EDU_BREAK I noticed EDU_BREAK when I first wore them EDU_BREAK that the heel squishes down EDU_BREAK as you walk EDU_BREAK and after the first few times it split open. EDU_BREAK Ended up getting some shoe goo EDU_BREAK and filling the entire heel with it EDU_BREAK because the heel is hollow on the shoes. EDU_BREAK Cute but terrible quality EDU_BREAK if you walk like a normal person... EDU_BREAK Very cute boots. EDU_BREAK Matched my motorcycle jacket perfectly. EDU_BREAK Very uncomfortable and feet EDU_BREAK hurt after 30 minutes EDU_BREAK of wearing EDU_BREAK while sitting on sofa. EDU_BREAK Very hard insole EDU_BREAK that needs more cushion. EDU_BREAK Great price EDU_BREAK They are adorable EDU_BREAK and look good EDU_BREAK but are made of very cheap material. EDU_BREAK I would recommend getting more than one pair EDU_BREAK or buying higher quality boots EDU_BREAK if you plan EDU_BREAK on wearing them every day. EDU_BREAK One good scrape and the black would come off. EDU_BREAK I do like them EDU_BREAK but I\\'m being honest about the quality. EDU_BREAK I have yet to have an issue with the heel EDU_BREAK collapsing but after reading other reviews got a tube of shoe goo in case EDU_BREAK it happens. EDU_BREAK They seem pretty solid to me. EDU_BREAK These are going to be awesome for date nights with my husband but not something EDU_BREAK that would stand up to much more than that. EDU_BREAK I bought these boots for a Halloween costume, EDU_BREAK but loved them so much EDU_BREAK that I wear them frequently. EDU_BREAK I got the color \" Tan \" EDU_BREAK which looks exactly as pictured on the website. EDU_BREAK I ordered a size 9, EDU_BREAK and I would say EDU_BREAK they\\'re just slightly too large in the foot area, EDU_BREAK but nothing a pair of fuzzy socks won\\'t fix. EDU_BREAK My only problem with these boots is EDU_BREAK that the heel is too soft. EDU_BREAK Either the rubber EDU_BREAK they used EDU_BREAK has too much give in it, EDU_BREAK or the heels are hollow, or SOMETHING. EDU_BREAK If you walk hard on your heels, EDU_BREAK the heel of the boot kind of gives in. EDU_BREAK Honestly, it\\'s not a big enough problem EDU_BREAK for me to not wear them. EDU_BREAK Otherwise, they are AMAZINGLY comfortable. EDU_BREAK I\\'ve worn these all day while working retail, EDU_BREAK and my feet were perfectly comfortable. EDU_BREAK I bought this set for my first ever country concert! EDU_BREAK I did not want to spend a lot of money on boots, EDU_BREAK so EDU_BREAK when I saw these, EDU_BREAK I decided to give a try. EDU_BREAK The shipping was fast EDU_BREAK and they look exactly like the picture. EDU_BREAK The fit is great too, very comfortable. EDU_BREAK I am not use to wearing high heels or anything like that EDU_BREAK so these were a perfect fit. EDU_BREAK I have worn them a couple of times, EDU_BREAK and they feel super comfy! EDU_BREAK I wore them for more than a few hours EDU_BREAK and my feet felt just fine. EDU_BREAK If you do not want to spend a lot of money on boots, EDU_BREAK I highly recommend these, not only are they affordable, but very comfortable!!')]"
      ]
     },
     "execution_count": 37,
     "metadata": {},
     "output_type": "execute_result"
    }
   ],
   "source": [
    "data"
   ]
  },
  {
   "cell_type": "code",
   "execution_count": 52,
   "metadata": {},
   "outputs": [
    {
     "name": "stdout",
     "output_type": "stream",
     "text": [
      "B000BNRWFW\n",
      "B000GAUOHS\n",
      "B000ZHDMFS\n",
      "B001RIYTK6\n",
      "B004D3CFYE\n",
      "B004LLSV5U\n",
      "B004SAS28K\n",
      "B004UER758\n",
      "B008BG2IM8\n",
      "B00EFD6B8I\n"
     ]
    }
   ],
   "source": [
    "import seaborn as sns\n",
    "pols_array = []\n",
    "for d in data:\n",
    "    prod_id, text = d\n",
    "    print(prod_id)\n",
    "    segments = text.split(' EDU_BREAK ')\n",
    "    pols = []\n",
    "    for i, s in enumerate(segments):\n",
    "        pol = generate_sentiment(senti_model, s)\n",
    "        pols.append(pol)\n",
    "    pols_array.append(pols)"
   ]
  },
  {
   "cell_type": "code",
   "execution_count": 55,
   "metadata": {},
   "outputs": [
    {
     "data": {
      "text/plain": [
       "<matplotlib.axes._subplots.AxesSubplot at 0x7faa4d690890>"
      ]
     },
     "execution_count": 55,
     "metadata": {},
     "output_type": "execute_result"
    },
    {
     "data": {
      "image/png": "[encoded data removed]",
      "text/plain": [
       "<Figure size 432x288 with 1 Axes>"
      ]
     },
     "metadata": {
      "needs_background": "light"
     },
     "output_type": "display_data"
    }
   ],
   "source": [
    "sns.kdeplot(pols_array[3])"
   ]
  },
  {
   "cell_type": "code",
   "execution_count": 57,
   "metadata": {},
   "outputs": [],
   "source": [
    "tmp = []\n",
    "seg_aspect_map = {}\n",
    "with open('data/gold/aspects/boots-dev.asp', 'r') as f:\n",
    "    aspects = f.readline().rstrip().split('|')\n",
    "    f.readline()\n",
    "    for line in f:\n",
    "        if line != '\\n':\n",
    "            tmp.append(line.rstrip())\n",
    "        else:\n",
    "            id_ = tmp[0]\n",
    "            product_id = id_.split('-')[0]\n",
    "            for text_data in tmp[1:]:\n",
    "                text, aspect = text_data.strip().split('\\t')\n",
    "                aspect_lst = aspect.strip().split()\n",
    "                seg_aspect_map[text] = aspects[int(aspect_lst[0])]\n",
    "            tmp = []\n",
    "tmp = []   \n",
    "with open('data/gold/aspects/boots-tst.asp', 'r') as f:\n",
    "    aspects = f.readline().rstrip().split('|')\n",
    "    f.readline()\n",
    "    for line in f:\n",
    "        if line != '\\n':\n",
    "            tmp.append(line.rstrip())\n",
    "        else:\n",
    "            id_ = tmp[0]\n",
    "            product_id = id_.split('-')[0]\n",
    "            for text_data in tmp[1:]:\n",
    "                text, aspect = text_data.strip().split('\\t')\n",
    "                aspect_lst = aspect.strip().split()\n",
    "                seg_aspect_map[text] = aspects[int(aspect_lst[0])]\n",
    "            tmp = []"
   ]
  },
  {
   "cell_type": "code",
   "execution_count": 59,
   "metadata": {
    "scrolled": true
   },
   "outputs": [
    {
     "name": "stdout",
     "output_type": "stream",
     "text": [
      "B000BNRWFW\n",
      "('They are very comfortable', 'Comfort', 'Comfort')\n",
      "('They look great, seem to be well made, however,', 'Look', 'Look')\n",
      "('is super soft unlike the way they were made.', 'Materials', 'Materials')\n",
      "('where the tongue is sewn to the top of boot.', 'Comfort', 'Materials')\n",
      "('There was some dried glue', 'Materials', 'Materials')\n",
      "('Good for the snow too.', 'Weather_resistance', 'Weather_resistance')\n",
      "B000GAUOHS\n",
      "('These are very comfortable & attractive boots for my office environment.', 'Comfort', 'Comfort')\n",
      "('They fit perfectly', 'Comfort', 'Comfort')\n",
      "('They are really comfortable', 'Comfort', 'Comfort')\n",
      "('These boots have a sturdy, comfortable sole with a heel', 'Comfort', 'Materials')\n",
      "('Great boots for the money!', 'Price', 'Price')\n",
      "('Otherwise, it is a nice looking boot for the price.', 'Price', 'Look')\n",
      "('and ample toe room,', 'Size', 'Size')\n",
      "('but were clearly very cheaply made.', 'Durability', 'Materials')\n",
      "('They seems comfy', 'Comfort', 'Comfort')\n",
      "('I can wear them all day at work', 'Comfort', 'Comfort')\n",
      "B000ZHDMFS\n",
      "('Was looking for a good comfortable pair of walking shoes.', 'Comfort', 'Look')\n",
      "('Fit as expected, true to size and extremely comfortable.', 'Comfort', 'Size')\n",
      "('They look great,', 'Look', 'Look')\n",
      "('that has toe coverage, yet airy, comfortable and cute.', 'Comfort', 'Comfort')\n",
      "('Very cute shoes, though they seem to run a bit wide.', 'Look', 'Size')\n",
      "(\"They aren't as cute on my size 10 foot as the picture.\", 'Look', 'Size')\n",
      "('I would have blisters within minutes', 'Comfort', 'Comfort')\n",
      "('They seem to be well made they just fit kinda funny.', 'Comfort', 'Comfort')\n",
      "B001RIYTK6\n",
      "('I returned them as a defective item back to Amazon.', 'Weather_resistance', 'Price')\n",
      "('These boots look good and fit great,', 'Comfort', 'Look')\n",
      "('not only are they cute but super comfortable and very durable.', 'Comfort', 'Comfort')\n",
      "('It has pretty good traction for a rainy day', 'Weather_resistance', 'Weather_resistance')\n",
      "('they have a nice thick sole with good tread.', 'Materials', 'Materials')\n",
      "('BIG waste of money.', 'Price', 'Price')\n",
      "('I love my red boots.', 'Color', 'Color')\n",
      "('They fit very comfortably, even with thicker socks.', 'Comfort', 'Comfort')\n",
      "('The seller accepted a return', 'Price', 'Price')\n",
      "('it gives the boots some cute flair.', 'Look', 'Look')\n",
      "B004D3CFYE\n",
      "('They are perfect for being on your feet all day', 'Comfort', 'Comfort')\n",
      "('The color is nice, more light blue than purple.', 'Color', 'Color')\n",
      "('These are extremely comfortable boots,', 'Comfort', 'Comfort')\n",
      "('before the seam came apart from the sole.', 'Durability', 'Durability')\n",
      "('Great shoes for hiking in all kinds of weather,', 'Weather_resistance', 'Weather_resistance')\n",
      "('Although they are somewhat comfortable to wear for walking,', 'Comfort', 'Comfort')\n",
      "('these shoes really are comfortable with no break in time required.', 'Comfort', 'Comfort')\n",
      "('Obviously, a poorly made shoe or inferior materials.', 'Materials', 'Materials')\n",
      "('but my feet stayed dry!!', 'Weather_resistance', 'Weather_resistance')\n",
      "(\"It's very sturdy and helped steady my ankles\", 'Comfort', 'Comfort')\n",
      "B004LLSV5U\n",
      "('Great color and good warmth.', 'Color', 'Color')\n",
      "('will keep my feet and legs dry and warm during the winter/snow/rain.', 'Weather_resistance', 'Weather_resistance')\n",
      "('The price was perfect for me.', 'Price', 'Price')\n",
      "(\"who's looking for a great deal.\", 'Price', 'Look')\n",
      "('This boots are so beautiful and comfortable.', 'Comfort', 'Comfort')\n",
      "('These boots are unbelievably gorgeous and blue is my favorite color.', 'Color', 'Color')\n",
      "(':) they are wonderful contructed boots but very small.', 'Size', 'Size')\n",
      "('The boots are waterproof and fully lined ; very warm!', 'Weather_resistance', 'Weather_resistance')\n",
      "('These fit well', 'Comfort', 'Comfort')\n",
      "('They do have good ankle support however', 'Comfort', 'Comfort')\n",
      "B004SAS28K\n",
      "('They are cozy warm and comfortable', 'Comfort', 'Comfort')\n",
      "('They are cute with jeans and leggings.', 'Look', 'Look')\n",
      "('and feel great.', 'Comfort', 'Look')\n",
      "('If you plan to wear thick socks for added warmth', 'Size', 'Comfort')\n",
      "(\"it's a waste.\", 'Comfort', 'Price')\n",
      "('True to size, soft suede especially on ankle area, superb FitFlop comfort', 'Comfort', 'Size')\n",
      "('These do not have a fuzzy warm interior.', 'Materials', 'Weather_resistance')\n",
      "('just like the Fit Flops I wear all summer long.', 'Comfort', 'Comfort')\n",
      "('go with everything looks make this', 'Look', 'Look')\n",
      "('and casual,', 'Look', 'Look')\n",
      "B004UER758\n",
      "('These boots are really cute and great quality.', 'Look', 'Look')\n",
      "('Love the style and taupe color is perfect.', 'Color', 'Color')\n",
      "('Normally a 9 fits perfect,', 'Size', 'Size')\n",
      "('They are a comfortable fit on width, but a little long in length.', 'Comfort', 'Comfort')\n",
      "('So well made so very comfortable!', 'Comfort', 'Comfort')\n",
      "('the attention to detail is great!', 'Look', 'Look')\n",
      "('I wanted a true purple boot,', 'Color', 'Color')\n",
      "('They are awesome looking', 'Look', 'Look')\n",
      "('I love the colour plum', 'Color', 'Color')\n",
      "('I think overall they were a nice look.', 'Look', 'Look')\n",
      "B008BG2IM8\n",
      "('They look great with jeans -- super cute!', 'Look', 'Look')\n",
      "('The soft pillow cushion, wide heel, and soft-arch make them the perfect all-day shoe.', 'Comfort', 'Comfort')\n",
      "('Normally ordering my size in a wide works very well,', 'Size', 'Size')\n",
      "('and feels great on my feet.', 'Comfort', 'Comfort')\n",
      "('And it fits perfect.', 'Comfort', 'Size')\n",
      "(\"They're very good quality.\", 'Materials', 'Look')\n",
      "('I absolutely love the style', 'Look', 'Look')\n",
      "('But get the size right and these are awesome.', 'Size', 'Size')\n",
      "('This is definitely a comfortable shoe.', 'Comfort', 'Comfort')\n",
      "('after a few days of breaking them in I can wear them comfortably all day.', 'Comfort', 'Comfort')\n",
      "B00EFD6B8I\n",
      "('The fit is great too, very comfortable.', 'Comfort', 'Comfort')\n",
      "('I highly recommend these, not only are they affordable, but very comfortable!!', 'Price', 'Comfort')\n",
      "('Matched my motorcycle jacket perfectly.', 'Look', 'Look')\n",
      "('Very comfy and stylish.', 'Comfort', 'Comfort')\n",
      "('Otherwise, they are AMAZINGLY comfortable.', 'Comfort', 'Comfort')\n",
      "('They are very light weight & fairly comfortable.', 'Comfort', 'Comfort')\n",
      "('and after the first few times it split open.', 'Durability', 'Durability')\n",
      "('The color & style is wonderful!', 'Color', 'Color')\n",
      "('and the heels of the shoes are falling apart.', 'Durability', 'Durability')\n",
      "('and look good', 'Look', 'Look')\n"
     ]
    }
   ],
   "source": [
    "from rouge import Rouge \n",
    "rouge = Rouge()\n",
    "scores_1 = []\n",
    "scores_2 = []\n",
    "scores_l = []\n",
    "for d in data:\n",
    "    prod_id, text = d\n",
    "    print(prod_id)\n",
    "    res = generate_summary(text)\n",
    "    for s in res:\n",
    "        probs1, classes1 = generate_aspect(aspect_model, s)\n",
    "        print((s, seg_aspect_map[s], aspect_label_vocab[classes1]))\n",
    "    \n",
    "    ref_B = []\n",
    "    with open('./data/gold/summaries/boots/all/boots.'+ prod_id +'.E.all.txt', 'r') as f:\n",
    "        for line in f:\n",
    "            ref_B.append(line.rstrip())\n",
    "    score_B = rouge.get_scores(' '.join(res), ' '.join(ref_B))[0]\n",
    "    \n",
    "    scores_1.append(score_B['rouge-1']['f'])\n",
    "    scores_2.append(score_B['rouge-2']['f'])\n",
    "    scores_l.append(score_B['rouge-l']['f'])\n",
    "    \n",
    "    ref_J = []\n",
    "    with open('./data/gold/summaries/boots/all/boots.'+ prod_id +'.J.all.txt', 'r') as f:\n",
    "        for line in f:\n",
    "            ref_J.append(line.rstrip())\n",
    "    score_J = rouge.get_scores(' '.join(res), ' '.join(ref_J))[0]\n",
    "    scores_1.append(score_J['rouge-1']['f'])\n",
    "    scores_2.append(score_J['rouge-2']['f'])\n",
    "    scores_l.append(score_J['rouge-l']['f'])\n",
    "    \n",
    "    ref_M = []\n",
    "    with open('./data/gold/summaries/boots/all/boots.'+ prod_id +'.N.all.txt', 'r') as f:\n",
    "        for line in f:\n",
    "            ref_M.append(line.rstrip())\n",
    "    score_M = rouge.get_scores(' '.join(res), ' '.join(ref_M))[0]\n",
    "    \"\"\"\n",
    "    print(text)\n",
    "    print()\n",
    "    print(res)\n",
    "    print()\n",
    "    print(ref_B)\n",
    "    print()\n",
    "    print(ref_J)\n",
    "    print()\n",
    "    print(ref_M)\n",
    "    print()\n",
    "    print()\n",
    "    \"\"\"\n",
    "    scores_1.append(score_M['rouge-1']['f'])\n",
    "    scores_2.append(score_M['rouge-2']['f'])\n",
    "    scores_l.append(score_M['rouge-l']['f'])"
   ]
  },
  {
   "cell_type": "code",
   "execution_count": 60,
   "metadata": {},
   "outputs": [
    {
     "data": {
      "text/plain": [
       "0.4483588811698024"
      ]
     },
     "execution_count": 60,
     "metadata": {},
     "output_type": "execute_result"
    }
   ],
   "source": [
    "sum(scores_1)/len(scores_1)"
   ]
  },
  {
   "cell_type": "code",
   "execution_count": 61,
   "metadata": {},
   "outputs": [
    {
     "data": {
      "text/plain": [
       "0.26302356735075455"
      ]
     },
     "execution_count": 61,
     "metadata": {},
     "output_type": "execute_result"
    }
   ],
   "source": [
    "sum(scores_2)/len(scores_2)"
   ]
  },
  {
   "cell_type": "code",
   "execution_count": 62,
   "metadata": {},
   "outputs": [
    {
     "data": {
      "text/plain": [
       "0.43016173644983874"
      ]
     },
     "execution_count": 62,
     "metadata": {},
     "output_type": "execute_result"
    }
   ],
   "source": [
    "sum(scores_l)/len(scores_l)"
   ]
  },
  {
   "cell_type": "code",
   "execution_count": null,
   "metadata": {},
   "outputs": [],
   "source": []
  },
  {
   "cell_type": "code",
   "execution_count": null,
   "metadata": {},
   "outputs": [],
   "source": []
  },
  {
   "cell_type": "code",
   "execution_count": null,
   "metadata": {},
   "outputs": [],
   "source": []
  },
  {
   "cell_type": "code",
   "execution_count": 30,
   "metadata": {},
   "outputs": [
    {
     "data": {
      "text/plain": [
       "0.3921408548995746"
      ]
     },
     "execution_count": 30,
     "metadata": {},
     "output_type": "execute_result"
    }
   ],
   "source": [
    "sum(scores_1)/len(scores_1)"
   ]
  },
  {
   "cell_type": "code",
   "execution_count": 31,
   "metadata": {},
   "outputs": [
    {
     "data": {
      "text/plain": [
       "0.198859854709762"
      ]
     },
     "execution_count": 31,
     "metadata": {},
     "output_type": "execute_result"
    }
   ],
   "source": [
    "sum(scores_2)/len(scores_2)"
   ]
  },
  {
   "cell_type": "code",
   "execution_count": 32,
   "metadata": {},
   "outputs": [
    {
     "data": {
      "text/plain": [
       "0.3747833671084038"
      ]
     },
     "execution_count": 32,
     "metadata": {},
     "output_type": "execute_result"
    }
   ],
   "source": [
    "sum(scores_l)/len(scores_l)"
   ]
  },
  {
   "cell_type": "code",
   "execution_count": null,
   "metadata": {},
   "outputs": [],
   "source": []
  },
  {
   "cell_type": "code",
   "execution_count": 25,
   "metadata": {},
   "outputs": [],
   "source": [
    "from collections import defaultdict\n",
    "tmp = []\n",
    "sal_data = defaultdict(list)\n",
    "with open('data/gold/aspects/boots-dev.asp', 'r') as f:\n",
    "    aspects = f.readline().rstrip().split('|')\n",
    "    f.readline()\n",
    "    for line in f:\n",
    "        if line != '\\n':\n",
    "            tmp.append(line.rstrip())\n",
    "        else:\n",
    "            id_ = tmp[0]\n",
    "            product_id = id_.split('-')[0]\n",
    "            for text_data in tmp[1:]:\n",
    "                text, aspect = text_data.strip().split('\\t')\n",
    "                aspects = aspect.split()\n",
    "                sal_data[product_id].append(text)\n",
    "                #sal_data[product_id].append((text, aspects[0]))\n",
    "            tmp = []\n",
    "\n",
    "with open('data/gold/aspects/boots-tst.asp', 'r') as f:\n",
    "    aspects = f.readline().rstrip().split('|')\n",
    "    f.readline()\n",
    "    for line in f:\n",
    "        if line != '\\n':\n",
    "            tmp.append(line.rstrip())\n",
    "        else:\n",
    "            id_ = tmp[0]\n",
    "            product_id = id_.split('-')[0]\n",
    "            for text_data in tmp[1:]:\n",
    "                text, aspect = text_data.strip().split('\\t')\n",
    "                aspects = aspect.split()\n",
    "                sal_data[product_id].append(text)\n",
    "                #sal_data[product_id].append((text, aspects[0]))\n",
    "            tmp = []\n",
    "\n",
    "sal_data = sorted(list(sal_data.items()), key=lambda x: x[0])"
   ]
  },
  {
   "cell_type": "code",
   "execution_count": 42,
   "metadata": {},
   "outputs": [],
   "source": [
    "def generate_sal_labels(segments):\n",
    "    tmp = []\n",
    "    for i, seg in enumerate(segments):\n",
    "        probs1, classes1 = generate_aspect(aspect_model, seg)\n",
    "        #print(seg)\n",
    "        #print(probs1)\n",
    "        #print(aspect_label_vocab[classes1])\n",
    "        polarity = generate_sentiment(senti_model, seg)\n",
    "        #print(probs2)\n",
    "        #print(sentiment_label_vocab[classes2])\n",
    "        #print()\n",
    "        if aspect_label_vocab[classes1] == 'None':\n",
    "            aspect_score = 0\n",
    "        else:\n",
    "            aspect_score = max(probs1[1:])-probs1[0]\n",
    "        senti_score = abs(polarity)\n",
    "        if senti_score < 0.5:\n",
    "            senti_score = 0\n",
    "        tmp.append((aspect_score*senti_score, seg, i))\n",
    "    res = sorted(tmp, key=lambda x: x[0], reverse=True)\n",
    "    weights, sents, indices = map(list, zip(*res))\n",
    "    return indices"
   ]
  },
  {
   "cell_type": "code",
   "execution_count": 43,
   "metadata": {},
   "outputs": [],
   "source": [
    "labels_a = defaultdict(list)\n",
    "labels_b = defaultdict(list)\n",
    "labels_c = defaultdict(list)\n",
    "with open('data/gold/salience/boots.sal', 'r') as f:\n",
    "    idx = 0\n",
    "    prev_prod = None\n",
    "    for line in f:\n",
    "        id_, label = line.split(\"\\t\")\n",
    "        ids = id_.split(\"-\")\n",
    "        label_lst = list(map(int,label.split()))\n",
    "        product_id = ids[0]\n",
    "        if prev_prod != product_id:\n",
    "            idx = 0\n",
    "        labels_a[product_id].append((idx, label_lst[0]))\n",
    "        labels_b[product_id].append((idx, label_lst[1]))\n",
    "        labels_c[product_id].append((idx, label_lst[2]))\n",
    "        idx+=1\n",
    "        prev_prod = product_id\n",
    "        "
   ]
  },
  {
   "cell_type": "code",
   "execution_count": 44,
   "metadata": {},
   "outputs": [
    {
     "data": {
      "text/plain": [
       "10"
      ]
     },
     "execution_count": 44,
     "metadata": {},
     "output_type": "execute_result"
    }
   ],
   "source": [
    "len(sal_data)"
   ]
  },
  {
   "cell_type": "code",
   "execution_count": 45,
   "metadata": {},
   "outputs": [],
   "source": [
    "rankings = defaultdict(list)\n",
    "for d in sal_data:\n",
    "    product_id, segs = d\n",
    "    indices = generate_sal_labels(segs)\n",
    "    rankings[product_id] = indices"
   ]
  },
  {
   "cell_type": "code",
   "execution_count": 46,
   "metadata": {},
   "outputs": [],
   "source": [
    "def precision_at_n(n, labels):\n",
    "    ones = 0\n",
    "    for i in range(n):\n",
    "        if labels[i] == 1:\n",
    "            ones+=1\n",
    "    return ones*1.0/n"
   ]
  },
  {
   "cell_type": "code",
   "execution_count": 47,
   "metadata": {},
   "outputs": [],
   "source": [
    "precisions = []\n",
    "p_at_5s = []\n",
    "for prod_id in rankings.keys():\n",
    "    ranking = rankings[prod_id]\n",
    "    label_a = labels_a[prod_id]\n",
    "    label_b = labels_b[prod_id]\n",
    "    label_c = labels_c[prod_id]\n",
    "    sorted_label_a = sorted(label_a, key=lambda x: ranking.index(x[0]))\n",
    "    sorted_label_b = sorted(label_b, key=lambda x: ranking.index(x[0]))\n",
    "    sorted_label_c = sorted(label_c, key=lambda x: ranking.index(x[0]))\n",
    "    _, sorted_a = map(list, zip(*sorted_label_a))\n",
    "    _, sorted_b = map(list, zip(*sorted_label_b))\n",
    "    _, sorted_c = map(list, zip(*sorted_label_c))\n",
    "    p_at_5_a = precision_at_n(5, sorted_a)\n",
    "    p_at_5_b = precision_at_n(5, sorted_b)\n",
    "    p_at_5_c = precision_at_n(5, sorted_c)\n",
    "    p_at_5s.append(p_at_5_a)\n",
    "    p_at_5s.append(p_at_5_b)\n",
    "    p_at_5s.append(p_at_5_c)\n",
    "    \n",
    "    precision_a = 0\n",
    "    count = 0\n",
    "    for i in range(len(sorted_a)):\n",
    "        if (sorted_a[i] == 1):\n",
    "            p_at_i = precision_at_n(i+1, sorted_a)\n",
    "            precision_a+=p_at_i\n",
    "            count += 1\n",
    "    precisions.append(precision_a/count)\n",
    "    \n",
    "    precision_b = 0\n",
    "    count = 0\n",
    "    for i in range(len(sorted_b)):\n",
    "        if (sorted_b[i] == 1):\n",
    "            p_at_i = precision_at_n(i+1, sorted_b)\n",
    "            precision_b+=p_at_i\n",
    "            count += 1\n",
    "    precisions.append(precision_b/count)\n",
    "        \n",
    "    precision_c = 0\n",
    "    count = 0\n",
    "    for i in range(len(sorted_c)):\n",
    "        if (sorted_c[i] == 1):\n",
    "            p_at_i = precision_at_n(i+1, sorted_c)\n",
    "            precision_c+=p_at_i\n",
    "            count += 1\n",
    "    precisions.append(precision_c/count)\n",
    "        "
   ]
  },
  {
   "cell_type": "code",
   "execution_count": 48,
   "metadata": {},
   "outputs": [
    {
     "data": {
      "text/plain": [
       "0.31410332777866984"
      ]
     },
     "execution_count": 48,
     "metadata": {},
     "output_type": "execute_result"
    }
   ],
   "source": [
    "sum(precisions)/len(precisions)  #0.32"
   ]
  },
  {
   "cell_type": "code",
   "execution_count": 49,
   "metadata": {},
   "outputs": [
    {
     "data": {
      "text/plain": [
       "0.27333333333333343"
      ]
     },
     "execution_count": 49,
     "metadata": {},
     "output_type": "execute_result"
    }
   ],
   "source": [
    "sum(p_at_5s)/len(p_at_5s)   #0.69"
   ]
  },
  {
   "cell_type": "code",
   "execution_count": null,
   "metadata": {},
   "outputs": [],
   "source": []
  },
  {
   "cell_type": "code",
   "execution_count": 1180,
   "metadata": {},
   "outputs": [],
   "source": [
    "data1 = defaultdict(list)\n",
    "tmp = []\n",
    "aspects_label = []\n",
    "with open('data/gold/aspects/bags_and_cases-tst.asp', 'r') as f:\n",
    "    aspects = f.readline().rstrip().split('|')\n",
    "    aspects_label = aspects[:]\n",
    "    #print(aspects)\n",
    "    f.readline()\n",
    "    for line in f:\n",
    "        if line != '\\n':\n",
    "            tmp.append(line.rstrip())\n",
    "        else:\n",
    "            id_ = tmp[0]\n",
    "            product_id = id_.split('-')[0]\n",
    "            for text_data in tmp[1:]:\n",
    "                text, aspect = text_data.strip().split('\\t')\n",
    "                aspects = aspect.split()\n",
    "                data1[product_id].append((text, aspects_label[int(aspects[0])]))\n",
    "            tmp = []\n",
    "\n",
    "#data1 = sorted(list(data1.items()), key=lambda x: x[0])"
   ]
  },
  {
   "cell_type": "code",
   "execution_count": 1181,
   "metadata": {},
   "outputs": [],
   "source": [
    "data2 = defaultdict(list)\n",
    "\n",
    "with open('data/gold/polarities/bags_and_cases.pol', 'r') as f:\n",
    "    for line in f:\n",
    "        id_, pol = line.split('\\t')\n",
    "        prod_id = id_.split('-')[0]\n",
    "        data2[prod_id].append(float(pol))\n",
    "        \n",
    "#data2 = sorted(list(data2.items()), key=lambda x: x[0])"
   ]
  },
  {
   "cell_type": "code",
   "execution_count": 1182,
   "metadata": {},
   "outputs": [],
   "source": [
    "data3 = defaultdict(list)\n",
    "for k in data2:\n",
    "    if k in data1:\n",
    "        for asp, pol in zip(data1[k], data2[k]):\n",
    "            data3[k].append((asp[0], asp[1], pol))"
   ]
  },
  {
   "cell_type": "code",
   "execution_count": 1183,
   "metadata": {},
   "outputs": [],
   "source": [
    "review_ids = set()\n",
    "with open('data/gold/polarities/bags_and_cases.pol', 'r') as f:\n",
    "    for line in f:\n",
    "        id_, pol = line.split('\\t')\n",
    "        prod_id = id_.split('-')[0]\n",
    "        review_id = id_.split('-')[1]\n",
    "        review_ids.add('-'.join([prod_id, review_id]))"
   ]
  },
  {
   "cell_type": "code",
   "execution_count": 1184,
   "metadata": {},
   "outputs": [],
   "source": [
    "labels_a = defaultdict(list)\n",
    "labels_b = defaultdict(list)\n",
    "labels_c = defaultdict(list)\n",
    "with open('data/gold/salience/bags_and_cases.sal', 'r') as f:\n",
    "    idx = 0\n",
    "    prev_prod = None\n",
    "    for line in f:\n",
    "        id_, label = line.split(\"\\t\")\n",
    "        ids = id_.split(\"-\")\n",
    "        label_lst = list(map(int,label.split()))\n",
    "        product_id = ids[0]\n",
    "        review_id = '-'.join(ids[:2])\n",
    "        if review_id not in review_ids:\n",
    "            continue\n",
    "        if prev_prod != product_id:\n",
    "            idx = 0\n",
    "        labels_a[product_id].append((idx, label_lst[0]))\n",
    "        labels_b[product_id].append((idx, label_lst[1]))\n",
    "        labels_c[product_id].append((idx, label_lst[2]))\n",
    "        idx+=1\n",
    "        prev_prod = product_id"
   ]
  },
  {
   "cell_type": "code",
   "execution_count": 1185,
   "metadata": {},
   "outputs": [],
   "source": [
    "infos = defaultdict(list)\n",
    "for prod_id in data3:\n",
    "    for seg, asp_label, pol_label in data3[prod_id]:\n",
    "        probs1, classes1 = generate_aspect(aspect_model, seg)\n",
    "        #print(seg)\n",
    "        #print(probs1)\n",
    "        #print(aspect_label_vocab[classes1])\n",
    "        polarity = generate_sentiment(senti_model, seg)\n",
    "        senti_score = polarity\n",
    "        \n",
    "        infos[prod_id].append((seg, asp_label, max(probs1), aspect_label_vocab[classes1], pol_label , senti_score))\n",
    "        \n",
    "        \n",
    "        "
   ]
  },
  {
   "cell_type": "code",
   "execution_count": 1186,
   "metadata": {},
   "outputs": [],
   "source": [
    "rankings2 = defaultdict(list)\n",
    "for pid in infos:\n",
    "    tmp = []\n",
    "    i = 0\n",
    "    for d in infos[pid]:\n",
    "        seg, asp_label, asp_score, pred_asp, pol, pred_pol = d\n",
    "        tmp.append((asp_score*pol, seg, i))\n",
    "        i+=1\n",
    "    res = sorted(tmp, key=lambda x: x[0], reverse=True)\n",
    "    weights, sents, indices = map(list, zip(*res))\n",
    "    rankings2[pid] = indices"
   ]
  },
  {
   "cell_type": "code",
   "execution_count": 1187,
   "metadata": {},
   "outputs": [],
   "source": [
    "labels = []\n",
    "preds = []\n",
    "for prod_id in data1:\n",
    "    for d in data1[prod_id]:\n",
    "        seg, asp_label = d\n",
    "        labels.append(asp_label)\n",
    "        probs1, classes1 = generate_aspect(aspect_model, seg)\n",
    "        preds.append(aspect_label_vocab[classes1])\n",
    "            "
   ]
  },
  {
   "cell_type": "code",
   "execution_count": 1188,
   "metadata": {},
   "outputs": [
    {
     "name": "stdout",
     "output_type": "stream",
     "text": [
      "0.661314578436625\n",
      "0.6401225114854517\n",
      "0.6385238337331397\n"
     ]
    }
   ],
   "source": [
    "from sklearn import metrics\n",
    "print(metrics.precision_score(labels, preds, average='weighted'))\n",
    "print(metrics.recall_score(labels, preds, average='weighted'))\n",
    "print(metrics.f1_score(labels, preds, average='weighted'))"
   ]
  },
  {
   "cell_type": "code",
   "execution_count": 1189,
   "metadata": {},
   "outputs": [
    {
     "name": "stdout",
     "output_type": "stream",
     "text": [
      "-0.09761678385734558\n",
      "-0.46048312950134274\n",
      "-0.05533921861648561\n",
      "0.07756399679183956\n",
      "-0.06120340815186501\n",
      "0.09991502332687374\n",
      "0.08535843026638032\n",
      "-0.25933528232574465\n",
      "0.12297663894295693\n",
      "0.12652857291698455\n",
      "-0.6228244112730026\n",
      "-0.49953490924835203\n",
      "0.06255666625499726\n",
      "0.0615368173122406\n",
      "-0.1524324394464493\n",
      "-0.5142392610609532\n",
      "-0.05074849295616152\n",
      "-0.35060742688179014\n",
      "-0.4496952352523804\n",
      "-0.1202917801141739\n",
      "-0.416976301908493\n",
      "0.25874162006378176\n",
      "0.005710849404335021\n",
      "-0.5459254203438759\n",
      "-1.5944239511489868\n",
      "-0.2811607956290245\n",
      "-0.1465512605905533\n",
      "-0.3154029221534729\n",
      "-0.5846862154006958\n",
      "-0.2577015190124512\n",
      "0.2012702510356903\n",
      "-0.11992101994156837\n",
      "0.2913613262176514\n",
      "-0.5777764930725098\n",
      "-0.4172896475791931\n",
      "-0.2845917152166367\n",
      "-0.48656415510177614\n",
      "-0.6119029505308717\n",
      "0.25967632234096527\n",
      "-0.7996231956481934\n",
      "-0.24212316498160363\n",
      "-0.8228810472488404\n",
      "-0.5695583565235138\n",
      "-0.17359171521663666\n",
      "-0.17322789132595062\n",
      "0.5931509439945221\n",
      "-0.26733637328445914\n",
      "0.07903124380111692\n",
      "-0.680371883392334\n",
      "0.2736603021621704\n",
      "0.01708096122741698\n",
      "-0.33373040533065795\n",
      "-0.5673542633056641\n",
      "0.10990689751505853\n",
      "-0.1373713961839676\n",
      "-0.5442686138153077\n",
      "-0.08331563739478588\n",
      "0.18737446975708005\n",
      "0.40731585025787354\n",
      "-0.1861044735908508\n",
      "0.010617609500884972\n",
      "0.49722453808784484\n",
      "-0.08301294279098509\n",
      "0.013502134323120085\n",
      "0.015166904211044302\n",
      "-0.9514196380376816\n",
      "0.12679960405826568\n",
      "-0.27195450091362\n",
      "0.06048602008819581\n",
      "-0.06471513271331786\n",
      "-0.5657213676199317\n",
      "-1.1367054595947266\n",
      "-0.25849105876684186\n",
      "-0.5458658199310302\n",
      "-0.5084406788349152\n",
      "-0.6077029378414154\n",
      "-0.16552106142044065\n",
      "-0.6233396842479706\n",
      "-0.30846191670000556\n",
      "0.039391917109489444\n",
      "0.18730445206165314\n",
      "0.16614646005630496\n",
      "-0.6501203026771545\n",
      "0.8226565175652504\n",
      "0.2804200841188431\n",
      "-0.0626347334384918\n",
      "0.15953268253803254\n",
      "-0.2095722594261169\n",
      "-0.3317606165409088\n",
      "0.23041633509844542\n",
      "0.7754005506038666\n",
      "0.2622271807789803\n",
      "-0.09812316498160362\n",
      "-0.2588047823607922\n",
      "-0.4605029417276383\n",
      "-0.24537942731380463\n",
      "-0.3315959248542786\n",
      "-0.2946832761764526\n",
      "0.13697755622863772\n",
      "-0.7558887138366699\n",
      "-0.48446399861574174\n",
      "-0.12951015394926071\n",
      "-0.1472630409002304\n",
      "0.4979201275259256\n",
      "-0.3506542809009552\n",
      "0.1780547811985016\n",
      "-0.5023894593715668\n",
      "-0.6219661178588867\n",
      "0.49397663894295696\n",
      "-1.1508134660720826\n",
      "-0.46307604932785035\n",
      "-0.09156572961807252\n",
      "-0.1330523347556591\n",
      "-0.39679360935091973\n",
      "-0.3978861329555512\n",
      "0.3512132225036621\n",
      "-0.9656800448298454\n",
      "-0.23747857689857482\n",
      "-0.40922050723433495\n",
      "0.3287837533950806\n",
      "-0.7715942916870118\n",
      "-0.3831598088145256\n",
      "0.037849788188934336\n",
      "-0.36464340090751646\n",
      "-0.39336475586891173\n",
      "-0.38319239336252214\n",
      "-0.7961018397808075\n",
      "-0.009072601795196533\n",
      "0.017976887464523306\n",
      "-0.17412460666894913\n",
      "-0.13194623184204102\n",
      "0.0008768350183963741\n",
      "-0.135404038310051\n",
      "-0.14078462266921998\n",
      "0.33809229731559753\n",
      "-0.4717681167125702\n",
      "-0.5806432409286499\n",
      "-0.0014324173927307005\n",
      "0.7754831061959266\n",
      "-0.1093832595348358\n",
      "-0.0762155727893114\n",
      "0.009918450377881527\n",
      "-0.33695059484243395\n",
      "-0.38103016149997715\n",
      "-0.4256151885986328\n",
      "-0.21744615077972412\n",
      "0.4062942742109299\n",
      "-0.1376895875930786\n",
      "-0.08732153594493866\n",
      "0.2352872723042965\n",
      "-0.11911947739124298\n",
      "-0.07020724105834963\n",
      "-0.11960986542701721\n",
      "-0.34469687366485596\n",
      "-0.13810081350803377\n",
      "-0.1447845697402954\n",
      "0.047469972133636476\n",
      "0.18996473228931426\n",
      "-0.9675022469758987\n",
      "0.12651185750961302\n",
      "-0.2880970523357391\n",
      "-0.26571773910522456\n",
      "-0.29063296747207645\n",
      "-0.20589536714553835\n",
      "0.008465303242206575\n",
      "-0.10561291444301607\n",
      "-0.2785242214202881\n",
      "0.38274728965759275\n",
      "-0.3100255675315857\n",
      "-0.5785632938742638\n",
      "-1.0230717720985414\n",
      "0.6711775078773499\n",
      "1.1146187796592713\n",
      "-0.30063443803787226\n",
      "-0.1860977368354797\n",
      "0.20274057841300963\n",
      "-0.37650624346733097\n",
      "-0.4656660528182983\n",
      "-0.15471540075540544\n",
      "-0.14324135017395023\n",
      "-0.20015740108489988\n",
      "-0.4492662189118564\n",
      "-0.13501937371492387\n",
      "0.017290225252509117\n",
      "-0.0663544237613678\n",
      "-0.11451199221611025\n",
      "-0.24110793781280515\n",
      "-0.007434298843145372\n",
      "-0.5508061753511428\n",
      "0.5630505142211915\n",
      "0.4098137376308441\n",
      "-0.14540011149644852\n",
      "-1.0721547660827637\n",
      "-0.4742343616485596\n",
      "-0.13235151100158693\n",
      "-1.396452130317688\n",
      "-0.3210628046989441\n",
      "-0.7964630808234214\n",
      "-0.12417968685179949\n",
      "0.2754534343928099\n",
      "-0.39615410709381105\n",
      "0.2596218943595886\n",
      "-0.3282186679840088\n",
      "0.06670863533020022\n",
      "0.5633830442428589\n",
      "-0.6043872876167298\n",
      "-0.3316802325248718\n",
      "-0.5459681376218796\n",
      "-0.43523684573173527\n",
      "-0.0928832831382751\n",
      "-0.3981668307781219\n",
      "-1.2465286312103272\n",
      "0.06697663894295693\n",
      "-0.5298166913986206\n",
      "-0.28740567111968995\n",
      "-1.005213975906372\n",
      "-0.0346583397388458\n",
      "-0.34722477340698243\n",
      "-0.06958114814758298\n",
      "0.04888858962059023\n",
      "0.3712578508257866\n",
      "-0.35038662242889407\n",
      "-0.07553578913211823\n",
      "0.5157631515264511\n",
      "0.03771781921386719\n",
      "0.1623480443954468\n",
      "-0.41835885810852047\n",
      "-0.129385258436203\n",
      "-0.30479161913692954\n",
      "0.046618244111537935\n",
      "-0.2007934927940369\n",
      "-0.1240572957992554\n",
      "0.2484354021549225\n",
      "-0.04735517787933352\n",
      "0.03062916707992558\n",
      "-0.731954264819622\n",
      "-0.5736786694526672\n",
      "-0.4959056322872639\n",
      "-0.7643832294940949\n",
      "-0.341714207649231\n",
      "0.0712356568723917\n",
      "-0.060964988112449645\n",
      "-0.526893672466278\n",
      "-0.40037909466028215\n",
      "-0.07111254018545152\n",
      "0.45941012668609615\n",
      "-0.35508525371551514\n",
      "-0.13990413856506345\n",
      "-1.7553943457603456\n",
      "-0.04365858578681946\n",
      "-0.7958735837936401\n",
      "-0.2767143316268921\n",
      "-0.5982863960266114\n",
      "-0.22412442845106126\n",
      "-0.468132759809494\n",
      "-0.0599487481117249\n",
      "0.2175143672414124\n",
      "-0.06291362535953522\n",
      "-0.04055206334590912\n",
      "0.0544621809720993\n",
      "0.2649401770234108\n",
      "-0.05779660865664482\n",
      "-0.18746862792968755\n",
      "0.04460191440582273\n",
      "0.18241337966918944\n",
      "0.6434069900512696\n",
      "0.6200139479637146\n",
      "-0.23081404113769532\n",
      "-0.06522225904464718\n",
      "-0.3950454721748829\n",
      "-0.13869056740403174\n",
      "-0.39713322830200193\n",
      "-0.43767502617835996\n",
      "-0.21512924221158028\n",
      "0.038235719680786096\n",
      "-1.5073847813606263\n",
      "0.11468064498901367\n",
      "-0.04377734947204592\n",
      "-0.10436686301231385\n",
      "-0.10459966671466828\n",
      "0.6756312706768512\n",
      "0.015279936604201794\n",
      "0.4848741888999939\n",
      "0.18821850991249084\n",
      "-0.10783008685708045\n",
      "-0.021497758388519278\n",
      "-0.4877488555908203\n",
      "-0.8077135980129242\n",
      "0.05724489116668696\n",
      "0.7636567958891392\n",
      "0.20360910320281977\n",
      "-0.3033210053443909\n",
      "-0.17769701206684113\n",
      "-0.21204744851589202\n",
      "0.6481228848993779\n",
      "0.4552623076438904\n",
      "0.22176156640052797\n",
      "0.12599021196365356\n",
      "-0.02341663408279418\n",
      "-0.040968690633773786\n",
      "-0.4788388205766678\n",
      "-0.22394580078125004\n",
      "0.14641326093673707\n",
      "-0.4870185596942902\n",
      "0.06841702616214752\n",
      "-0.4068208918571472\n",
      "-0.4496150286197662\n",
      "-0.790460509777069\n",
      "-0.41459768867492675\n",
      "-0.4698894381523132\n",
      "-0.22887486362457277\n",
      "0.016334296703338635\n",
      "0.3218045234680176\n",
      "0.44285271286964417\n",
      "0.016062679767608667\n",
      "0.09694316554069521\n",
      "-0.2778034820556641\n",
      "-0.7592332079410553\n",
      "-0.16512507478054614\n",
      "0.29199733728170396\n",
      "0.4256549789905548\n",
      "-0.020938390731811522\n",
      "-0.41513502717018125\n",
      "0.2625851035118103\n",
      "0.1788671744465828\n",
      "-0.7769539204835891\n",
      "-0.48699216544628143\n",
      "-1.090842093706131\n",
      "0.17552512454986569\n",
      "-0.7966822443008423\n",
      "-0.22550589132308962\n",
      "-0.18038433933258058\n",
      "0.27805874812603\n",
      "-0.3382120714187622\n",
      "-0.6733171670436859\n",
      "-0.6303672804832459\n",
      "0.5403863315582276\n",
      "-0.17687859958410262\n",
      "0.08499162817001343\n",
      "0.2966630398631096\n",
      "0.31391497725248335\n",
      "0.38744067716598507\n",
      "0.43084853887557983\n",
      "-0.4847291427254677\n",
      "-0.6799311794638634\n",
      "-0.8751425714492798\n",
      "-0.23272079515457156\n",
      "1.0297509191036225\n",
      "-0.6533727588653564\n",
      "0.021606858253478967\n",
      "-0.7348144671916962\n",
      "-0.7198289306163788\n",
      "-0.41878462266921995\n",
      "0.027632418155670163\n",
      "-0.21355647134780886\n",
      "0.02504753637313839\n",
      "-0.28641277122497555\n",
      "-0.895482479095459\n",
      "-0.15521985006332395\n",
      "-0.5995335636138917\n",
      "-0.4567229528427124\n",
      "-0.6108055768013001\n",
      "-0.42762807297706606\n",
      "-0.6282381117343903\n",
      "-0.016551791191101062\n"
     ]
    }
   ],
   "source": [
    "total = 0\n",
    "correct = 0\n",
    "accurate = 0\n",
    "real_pols = []\n",
    "pred_pols = []\n",
    "errs = []\n",
    "for prod_id in infos:\n",
    "    for d in infos[prod_id]:\n",
    "        total+=1\n",
    "        if abs(d[4] - d[5]) <= 0.3:\n",
    "            accurate += 1\n",
    "        real_pols.append(d[4])\n",
    "        pred_pols.append(d[5])\n",
    "        errs.append(abs(d[4]-d[5]))\n",
    "        print(d[4] - d[5])\n",
    "        if (d[4] >0 ) == (d[5]>0):\n",
    "            correct+=1\n",
    "            "
   ]
  },
  {
   "cell_type": "code",
   "execution_count": 1190,
   "metadata": {},
   "outputs": [
    {
     "data": {
      "text/plain": [
       "0.6767123287671233"
      ]
     },
     "execution_count": 1190,
     "metadata": {},
     "output_type": "execute_result"
    }
   ],
   "source": [
    "correct/total"
   ]
  },
  {
   "cell_type": "code",
   "execution_count": 1191,
   "metadata": {},
   "outputs": [
    {
     "data": {
      "text/plain": [
       "0.536986301369863"
      ]
     },
     "execution_count": 1191,
     "metadata": {},
     "output_type": "execute_result"
    }
   ],
   "source": [
    "accurate/total"
   ]
  },
  {
   "cell_type": "code",
   "execution_count": 1192,
   "metadata": {},
   "outputs": [
    {
     "data": {
      "text/plain": [
       "365"
      ]
     },
     "execution_count": 1192,
     "metadata": {},
     "output_type": "execute_result"
    }
   ],
   "source": [
    "total"
   ]
  },
  {
   "cell_type": "code",
   "execution_count": 1193,
   "metadata": {},
   "outputs": [],
   "source": [
    "x = range(len(real_pols))"
   ]
  },
  {
   "cell_type": "code",
   "execution_count": 1194,
   "metadata": {},
   "outputs": [],
   "source": [
    "y1 = real_pols\n",
    "y2 = pred_pols"
   ]
  },
  {
   "cell_type": "code",
   "execution_count": 1195,
   "metadata": {},
   "outputs": [],
   "source": [
    "import matplotlib.pyplot as plt\n"
   ]
  },
  {
   "cell_type": "code",
   "execution_count": 1196,
   "metadata": {},
   "outputs": [
    {
     "data": {
      "text/plain": [
       "[<matplotlib.lines.Line2D at 0x7f0c395ab128>]"
      ]
     },
     "execution_count": 1196,
     "metadata": {},
     "output_type": "execute_result"
    },
    {
     "data": {
      "image/png": "[encoded data removed]",
      "text/plain": [
       "<Figure size 432x288 with 1 Axes>"
      ]
     },
     "metadata": {
      "needs_background": "light"
     },
     "output_type": "display_data"
    }
   ],
   "source": [
    "plt.plot(x,y1)\n",
    "plt.plot(x,y2,color='green')"
   ]
  },
  {
   "cell_type": "code",
   "execution_count": 1197,
   "metadata": {},
   "outputs": [
    {
     "data": {
      "text/plain": [
       "[<matplotlib.lines.Line2D at 0x7f0cfdbbeb38>]"
      ]
     },
     "execution_count": 1197,
     "metadata": {},
     "output_type": "execute_result"
    },
    {
     "data": {
      "image/png": "[encoded data removed]",
      "text/plain": [
       "<Figure size 432x288 with 1 Axes>"
      ]
     },
     "metadata": {
      "needs_background": "light"
     },
     "output_type": "display_data"
    }
   ],
   "source": [
    "plt.plot(x,y1)"
   ]
  },
  {
   "cell_type": "code",
   "execution_count": 1198,
   "metadata": {},
   "outputs": [
    {
     "data": {
      "text/plain": [
       "[<matplotlib.lines.Line2D at 0x7f0cf8cb9780>]"
      ]
     },
     "execution_count": 1198,
     "metadata": {},
     "output_type": "execute_result"
    },
    {
     "data": {
      "image/png": "[encoded data removed]",
      "text/plain": [
       "<Figure size 432x288 with 1 Axes>"
      ]
     },
     "metadata": {
      "needs_background": "light"
     },
     "output_type": "display_data"
    }
   ],
   "source": [
    "plt.plot(x,y2)"
   ]
  },
  {
   "cell_type": "code",
   "execution_count": 1199,
   "metadata": {},
   "outputs": [
    {
     "data": {
      "text/plain": [
       "[<matplotlib.lines.Line2D at 0x7f0cf8c91f28>]"
      ]
     },
     "execution_count": 1199,
     "metadata": {},
     "output_type": "execute_result"
    },
    {
     "data": {
      "image/png": "[encoded data removed]",
      "text/plain": [
       "<Figure size 432x288 with 1 Axes>"
      ]
     },
     "metadata": {
      "needs_background": "light"
     },
     "output_type": "display_data"
    }
   ],
   "source": [
    "plt.plot(x,errs)"
   ]
  },
  {
   "cell_type": "code",
   "execution_count": null,
   "metadata": {},
   "outputs": [],
   "source": []
  },
  {
   "cell_type": "code",
   "execution_count": null,
   "metadata": {},
   "outputs": [],
   "source": []
  }
 ],
 "metadata": {
  "kernelspec": {
   "display_name": "Python 3",
   "language": "python",
   "name": "python3"
  },
  "language_info": {
   "codemirror_mode": {
    "name": "ipython",
    "version": 3
   },
   "file_extension": ".py",
   "mimetype": "text/x-python",
   "name": "python",
   "nbconvert_exporter": "python",
   "pygments_lexer": "ipython3",
   "version": "3.7.6"
  }
 },
 "nbformat": 4,
 "nbformat_minor": 2
}
