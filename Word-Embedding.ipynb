{
 "cells": [
  {
   "cell_type": "code",
   "execution_count": 6,
   "metadata": {},
   "outputs": [],
   "source": [
    "import gzip\n",
    "import gensim \n",
    "import logging\n",
    "import csv\n",
    "\n",
    "class MyCorpus(object):\n",
    "    \"\"\"An interator that yields sentences (lists of str).\"\"\"\n",
    "\n",
    "    def __iter__(self):\n",
    "        input_file = 'data/csv/train/boots.csv'\n",
    "        logging.info(\"reading file {0}...this may take a while\".format(input_file))\n",
    "        with open(input_file, 'r') as csvfile:\n",
    "            csvreader = csv.reader(csvfile)\n",
    "            next(csvreader)\n",
    "            for row in csvreader:\n",
    "                yield gensim.utils.simple_preprocess(row[-2].replace('EDU_BREAK', ''))"
   ]
  },
  {
   "cell_type": "code",
   "execution_count": 7,
   "metadata": {},
   "outputs": [],
   "source": [
    "documents = MyCorpus()"
   ]
  },
  {
   "cell_type": "code",
   "execution_count": 8,
   "metadata": {},
   "outputs": [],
   "source": [
    "model = gensim.models.Word2Vec(\n",
    "        documents,\n",
    "        size=200,\n",
    "        min_count=2,\n",
    "        iter=20)"
   ]
  },
  {
   "cell_type": "code",
   "execution_count": 9,
   "metadata": {},
   "outputs": [],
   "source": [
    "model.wv.save_word2vec_format('boots.200d.txt', binary=False)"
   ]
  },
  {
   "cell_type": "code",
   "execution_count": 10,
   "metadata": {},
   "outputs": [
    {
     "data": {
      "text/plain": [
       "[('booties', 0.6697437167167664),\n",
       " ('rainboots', 0.5998247265815735),\n",
       " ('shoes', 0.5968455076217651),\n",
       " ('books', 0.4956554174423218),\n",
       " ('fryes', 0.48530685901641846),\n",
       " ('wellies', 0.4829743206501007),\n",
       " ('ones', 0.4524150490760803),\n",
       " ('docs', 0.4219079911708832),\n",
       " ('keens', 0.4113222658634186),\n",
       " ('bearpaws', 0.4057885706424713)]"
      ]
     },
     "execution_count": 10,
     "metadata": {},
     "output_type": "execute_result"
    }
   ],
   "source": [
    "model.wv.most_similar('boots')"
   ]
  },
  {
   "cell_type": "code",
   "execution_count": null,
   "metadata": {},
   "outputs": [],
   "source": []
  }
 ],
 "metadata": {
  "kernelspec": {
   "display_name": "Python [conda env:pl] *",
   "language": "python",
   "name": "conda-env-pl-py"
  },
  "language_info": {
   "codemirror_mode": {
    "name": "ipython",
    "version": 3
   },
   "file_extension": ".py",
   "mimetype": "text/x-python",
   "name": "python",
   "nbconvert_exporter": "python",
   "pygments_lexer": "ipython3",
   "version": "3.6.9"
  }
 },
 "nbformat": 4,
 "nbformat_minor": 2
}
